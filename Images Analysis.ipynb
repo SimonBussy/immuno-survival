{
 "cells": [
  {
   "cell_type": "markdown",
   "metadata": {},
   "source": [
    "# Matrices\n",
    "\n"
   ]
  },
  {
   "cell_type": "code",
   "execution_count": 1,
   "metadata": {},
   "outputs": [
    {
     "data": {
      "text/plain": [
       "<Figure size 640x480 with 0 Axes>"
      ]
     },
     "metadata": {},
     "output_type": "display_data"
    },
    {
     "data": {
      "text/plain": [
       "<Figure size 640x480 with 1 Axes>"
      ]
     },
     "metadata": {},
     "output_type": "display_data"
    },
    {
     "data": {
      "text/plain": [
       "<matplotlib.image.AxesImage at 0x18580800c18>"
      ]
     },
     "execution_count": 1,
     "metadata": {},
     "output_type": "execute_result"
    }
   ],
   "source": [
    "import os\n",
    "import numpy\n",
    "import pandas\n",
    "import cv2\n",
    "\n",
    "#List of usable patients \n",
    "data_ID=pandas.read_csv(os.path.join('..','List_Patient_HEGP.csv'),sep=\",\")\n",
    "\n",
    "CD3PATH=os.path.join('..','Data_output','cache_HEGP','cd3','PAR170')\n",
    "img_cd3_im=pandas.read_csv(os.path.join(CD3PATH,'Ratio_Cells_per_InvasiveFront'),sep=' ',header=None)\n",
    "img_cd3_ct=pandas.read_csv(os.path.join(CD3PATH,'Ratio_Cells_per_Tumor'),sep=' ',header=None)\n"
   ]
  },
  {
   "cell_type": "code",
   "execution_count": 2,
   "metadata": {},
   "outputs": [
    {
     "data": {
      "text/plain": [
       "<Figure size 432x288 with 0 Axes>"
      ]
     },
     "metadata": {},
     "output_type": "display_data"
    },
    {
     "data": {
      "image/png": "[encoded data removed]",
      "text/plain": [
       "<Figure size 432x288 with 1 Axes>"
      ]
     },
     "metadata": {},
     "output_type": "display_data"
    },
    {
     "data": {
      "text/plain": [
       "<matplotlib.image.AxesImage at 0x18580a21e80>"
      ]
     },
     "execution_count": 2,
     "metadata": {},
     "output_type": "execute_result"
    },
    {
     "data": {
      "image/png": "[encoded data removed]",
      "text/plain": [
       "<Figure size 432x288 with 1 Axes>"
      ]
     },
     "metadata": {},
     "output_type": "display_data"
    }
   ],
   "source": [
    "from matplotlib import pyplot as plt\n",
    "plt.gray()\n",
    "plt.show()\n",
    "plt.imshow(img_cd3_ct, interpolation='nearest')\n",
    "\n",
    "plt.gray()\n",
    "plt.show()\n",
    "plt.imshow(img_cd3_im, interpolation='nearest')\n"
   ]
  },
  {
   "cell_type": "markdown",
   "metadata": {},
   "source": [
    "## Extraction de features\n",
    "\n"
   ]
  },
  {
   "cell_type": "code",
   "execution_count": 4,
   "metadata": {},
   "outputs": [],
   "source": [
    "sift = cv2.xfeatures2d.SIFT_create()\n",
    "\n"
   ]
  },
  {
   "cell_type": "code",
   "execution_count": 5,
   "metadata": {},
   "outputs": [],
   "source": [
    "size_vector_cd3=pandas.DataFrame(data=data_ID['OfficialID'])\n",
    "size_vector_cd3[\"Size_Tumor_kp\"]=numpy.nan\n",
    "size_vector_cd3[\"Size_Tumor_des\"]=numpy.nan\n",
    "size_vector_cd3[\"Size_IM_kp\"]=numpy.nan\n",
    "size_vector_cd3[\"Size_IM_des\"]=numpy.nan\n",
    "size_vector_cd3[\"Size_img_h\"]=numpy.nan\n",
    "size_vector_cd3[\"Size_img_w\"]=numpy.nan\n",
    "size_vector_cd3[\"Size_img\"]=numpy.nan\n",
    "size_vector_cd3.set_index('OfficialID',drop=False,inplace=True)\n",
    "\n",
    "size_vector_cd8=pandas.DataFrame(data=data_ID['OfficialID'])\n",
    "size_vector_cd8[\"Size_Tumor_kp\"]=numpy.nan\n",
    "size_vector_cd8[\"Size_Tumor_des\"]=numpy.nan\n",
    "size_vector_cd8[\"Size_IM_kp\"]=numpy.nan\n",
    "size_vector_cd8[\"Size_IM_des\"]=numpy.nan\n",
    "size_vector_cd8[\"Size_img_h\"]=numpy.nan\n",
    "size_vector_cd8[\"Size_img_w\"]=numpy.nan\n",
    "size_vector_cd8[\"Size_img\"]=numpy.nan\n",
    "size_vector_cd8.set_index('OfficialID',drop=False,inplace=True)\n",
    "\n",
    "\n",
    "for patient_id in data_ID['OfficialID']:\n",
    "    CD3PATH=os.path.join('..','Data_output','cache_HEGP','cd3',patient_id)\n",
    "    img_cd3=pandas.read_csv(os.path.join(CD3PATH,'Ratio_Cells_per_Tumor'),sep=' ',header=None)\n",
    "    size_vector_cd3.loc[patient_id,'Size_img_h']=img_cd3.shape[0]\n",
    "    size_vector_cd3.loc[patient_id,'Size_img_w']=img_cd3.shape[1]\n",
    "    size_vector_cd3.loc[patient_id,'Size_img']=img_cd3.size\n",
    "    gen = numpy.array(img_cd3 ,dtype=numpy.uint8)\n",
    "    \n",
    "    #kps=extract_features(gen)\n",
    "    kp, des = sift.detectAndCompute(gen,None)\n",
    "    try:\n",
    "        size_vector_cd3.loc[patient_id,'Size_Tumor_kp']=des.shape[0]\n",
    "        size_vector_cd3.loc[patient_id,'Size_Tumor_des']=des.shape[1]\n",
    "    except (AttributeError):\n",
    "        pass\n",
    "    img_cd3=pandas.read_csv(os.path.join(CD3PATH,'Ratio_Cells_per_InvasiveFront'),sep=' ',header=None)\n",
    "    gen = numpy.array(img_cd3 ,dtype=numpy.uint8)\n",
    "    #kps=extract_features(gen)\n",
    "    kp, des = sift.detectAndCompute(gen,None)\n",
    "    try:\n",
    "        size_vector_cd3.loc[patient_id,'Size_IM_kp']=des.shape[0]\n",
    "        size_vector_cd3.loc[patient_id,'Size_IM_des']=des.shape[1]\n",
    "    except (AttributeError):\n",
    "        pass\n",
    "    CD8PATH=os.path.join('..','Data_output','cache_HEGP','cd8',patient_id)\n",
    "    img_cd8=pandas.read_csv(os.path.join(CD8PATH,'Ratio_Cells_per_Tumor'),sep=' ',header=None)\n",
    "    size_vector_cd8.loc[patient_id,'Size_img_h']=img_cd8.shape[0]\n",
    "    size_vector_cd8.loc[patient_id,'Size_img_w']=img_cd8.shape[1]\n",
    "    size_vector_cd8.loc[patient_id,'Size_img']=img_cd8.size\n",
    "    gen = numpy.array(img_cd8 ,dtype=numpy.uint8)\n",
    "    \n",
    "    #kps=extract_features(gen)\n",
    "    kp, des = sift.detectAndCompute(gen,None)\n",
    "    try:\n",
    "        size_vector_cd8.loc[patient_id,'Size_Tumor_kp']=des.shape[0]\n",
    "        size_vector_cd8.loc[patient_id,'Size_Tumor_des']=des.shape[1]\n",
    "    except (AttributeError):\n",
    "        pass\n",
    "    img_cd8=pandas.read_csv(os.path.join(CD8PATH,'Ratio_Cells_per_InvasiveFront'),sep=' ',header=None)\n",
    "    gen = numpy.array(img_cd8 ,dtype=numpy.uint8)\n",
    "    #kps=extract_features(gen)\n",
    "    kp, des = sift.detectAndCompute(gen,None)\n",
    "    try:\n",
    "        size_vector_cd8.loc[patient_id,'Size_IM_kp']=des.shape[0]\n",
    "        size_vector_cd8.loc[patient_id,'Size_IM_des']=des.shape[1]\n",
    "    except (AttributeError):\n",
    "        pass"
   ]
  },
  {
   "cell_type": "code",
   "execution_count": 6,
   "metadata": {},
   "outputs": [
    {
     "data": {
      "text/plain": [
       "165"
      ]
     },
     "execution_count": 6,
     "metadata": {},
     "output_type": "execute_result"
    }
   ],
   "source": [
    "len( pandas.isnull(size_vector_cd8).any(1).nonzero()[0])"
   ]
  },
  {
   "cell_type": "code",
   "execution_count": 7,
   "metadata": {},
   "outputs": [
    {
     "data": {
      "text/plain": [
       "127"
      ]
     },
     "execution_count": 7,
     "metadata": {},
     "output_type": "execute_result"
    }
   ],
   "source": [
    "len( pandas.isnull(size_vector_cd3).any(1).nonzero()[0])"
   ]
  },
  {
   "cell_type": "markdown",
   "metadata": {},
   "source": [
    "Beacoup de vecteur vide car les images IM sont très petites et donc l'algorithme ne peut isoler de Keypoints (point important)\n",
    "\n",
    "Mais si on ne regarde que les tissus tumoraux"
   ]
  }
 ],
 "metadata": {
  "kernelspec": {
   "display_name": "Python 3",
   "language": "python",
   "name": "python3"
  },
  "language_info": {
   "codemirror_mode": {
    "name": "ipython",
    "version": 3
   },
   "file_extension": ".py",
   "mimetype": "text/x-python",
   "name": "python",
   "nbconvert_exporter": "python",
   "pygments_lexer": "ipython3",
   "version": "3.6.4"
  }
 },
 "nbformat": 4,
 "nbformat_minor": 2
}
