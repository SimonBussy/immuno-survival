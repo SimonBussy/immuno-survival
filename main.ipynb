{
 "cells": [
  {
   "cell_type": "code",
   "execution_count": 1,
   "metadata": {
    "collapsed": true
   },
   "outputs": [],
   "source": [
    "%reset -f\n",
    "%matplotlib inline\n",
    "%load_ext rpy2.ipython\n",
    "\n",
    "import pandas as pd\n",
    "import numpy as np\n",
    "import os\n",
    "import rpy2.robjects as ro\n",
    "import pylab as pl\n",
    "from sklearn.model_selection import ShuffleSplit\n",
    "from sklearn.model_selection import train_test_split\n",
    "from tick.preprocessing.features_binarizer import FeaturesBinarizer\n",
    "from lifelines.utils import concordance_index\n",
    "from lifelines import CoxPHFitter\n",
    "from QNEM.inference import QNEM\n",
    "from load_Data_forCox import load_Data_forCox\n",
    "from sklearn.preprocessing import StandardScaler\n",
    "import warnings\n",
    "\n",
    "warnings.filterwarnings('ignore')\n",
    "pd.set_option('display.max_columns', 100)"
   ]
  },
  {
   "cell_type": "markdown",
   "metadata": {},
   "source": [
    "## Load data\n",
    "dataFrame index on OfficialID, drop=True"
   ]
  },
  {
   "cell_type": "code",
   "execution_count": 2,
   "metadata": {},
   "outputs": [
    {
     "data": {
      "text/html": [
       "<div>\n",
       "<style scoped>\n",
       "    .dataframe tbody tr th:only-of-type {\n",
       "        vertical-align: middle;\n",
       "    }\n",
       "\n",
       "    .dataframe tbody tr th {\n",
       "        vertical-align: top;\n",
       "    }\n",
       "\n",
       "    .dataframe thead th {\n",
       "        text-align: right;\n",
       "    }\n",
       "</style>\n",
       "<table border=\"1\" class=\"dataframe\">\n",
       "  <thead>\n",
       "    <tr style=\"text-align: right;\">\n",
       "      <th></th>\n",
       "      <th>gender</th>\n",
       "      <th>age</th>\n",
       "      <th>t_stage_mod_6is4_7is1</th>\n",
       "      <th>n_stage</th>\n",
       "      <th>UICC_TNM</th>\n",
       "      <th>postop_chemo</th>\n",
       "      <th>nlnode</th>\n",
       "      <th>plnode</th>\n",
       "      <th>sidedness</th>\n",
       "      <th>ascending</th>\n",
       "      <th>transverse</th>\n",
       "      <th>descending</th>\n",
       "      <th>sigmoid</th>\n",
       "      <th>differentiation</th>\n",
       "      <th>mucinous_colloide</th>\n",
       "      <th>occlusion</th>\n",
       "      <th>perforation</th>\n",
       "      <th>venous_emboli</th>\n",
       "      <th>lymphatic_invasion</th>\n",
       "      <th>perineural_invasion</th>\n",
       "      <th>msi_gen</th>\n",
       "      <th>p53_status</th>\n",
       "      <th>kras_status</th>\n",
       "      <th>apc_status</th>\n",
       "      <th>braf_status</th>\n",
       "      <th>pi3k_status</th>\n",
       "      <th>Immunoscore</th>\n",
       "    </tr>\n",
       "    <tr>\n",
       "      <th>OfficialID</th>\n",
       "      <th></th>\n",
       "      <th></th>\n",
       "      <th></th>\n",
       "      <th></th>\n",
       "      <th></th>\n",
       "      <th></th>\n",
       "      <th></th>\n",
       "      <th></th>\n",
       "      <th></th>\n",
       "      <th></th>\n",
       "      <th></th>\n",
       "      <th></th>\n",
       "      <th></th>\n",
       "      <th></th>\n",
       "      <th></th>\n",
       "      <th></th>\n",
       "      <th></th>\n",
       "      <th></th>\n",
       "      <th></th>\n",
       "      <th></th>\n",
       "      <th></th>\n",
       "      <th></th>\n",
       "      <th></th>\n",
       "      <th></th>\n",
       "      <th></th>\n",
       "      <th></th>\n",
       "      <th></th>\n",
       "    </tr>\n",
       "  </thead>\n",
       "  <tbody>\n",
       "    <tr>\n",
       "      <th>PAR170</th>\n",
       "      <td>0</td>\n",
       "      <td>34.08</td>\n",
       "      <td>3</td>\n",
       "      <td>1.0</td>\n",
       "      <td>III</td>\n",
       "      <td>1</td>\n",
       "      <td>43.0</td>\n",
       "      <td>3.0</td>\n",
       "      <td>1.0</td>\n",
       "      <td>1.0</td>\n",
       "      <td>0.0</td>\n",
       "      <td>0.0</td>\n",
       "      <td>0.0</td>\n",
       "      <td>1.0</td>\n",
       "      <td>0.0</td>\n",
       "      <td>0</td>\n",
       "      <td>0</td>\n",
       "      <td>0.0</td>\n",
       "      <td>0.0</td>\n",
       "      <td>0.0</td>\n",
       "      <td>0.0</td>\n",
       "      <td>0.0</td>\n",
       "      <td>0.0</td>\n",
       "      <td>0.0</td>\n",
       "      <td>0.0</td>\n",
       "      <td>0.0</td>\n",
       "      <td>1</td>\n",
       "    </tr>\n",
       "    <tr>\n",
       "      <th>PAR171</th>\n",
       "      <td>0</td>\n",
       "      <td>84.48</td>\n",
       "      <td>4</td>\n",
       "      <td>0.0</td>\n",
       "      <td>II</td>\n",
       "      <td>0</td>\n",
       "      <td>13.0</td>\n",
       "      <td>0.0</td>\n",
       "      <td>1.0</td>\n",
       "      <td>1.0</td>\n",
       "      <td>0.0</td>\n",
       "      <td>0.0</td>\n",
       "      <td>0.0</td>\n",
       "      <td>1.0</td>\n",
       "      <td>1.0</td>\n",
       "      <td>0</td>\n",
       "      <td>0</td>\n",
       "      <td>0.0</td>\n",
       "      <td>0.0</td>\n",
       "      <td>0.0</td>\n",
       "      <td>0.0</td>\n",
       "      <td>0.0</td>\n",
       "      <td>0.0</td>\n",
       "      <td>0.0</td>\n",
       "      <td>0.0</td>\n",
       "      <td>0.0</td>\n",
       "      <td>0</td>\n",
       "    </tr>\n",
       "    <tr>\n",
       "      <th>PAR172</th>\n",
       "      <td>1</td>\n",
       "      <td>61.05</td>\n",
       "      <td>4</td>\n",
       "      <td>2.0</td>\n",
       "      <td>III</td>\n",
       "      <td>0</td>\n",
       "      <td>21.0</td>\n",
       "      <td>4.0</td>\n",
       "      <td>2.0</td>\n",
       "      <td>0.0</td>\n",
       "      <td>0.0</td>\n",
       "      <td>0.0</td>\n",
       "      <td>1.0</td>\n",
       "      <td>1.0</td>\n",
       "      <td>0.0</td>\n",
       "      <td>0</td>\n",
       "      <td>0</td>\n",
       "      <td>1.0</td>\n",
       "      <td>0.0</td>\n",
       "      <td>0.0</td>\n",
       "      <td>0.0</td>\n",
       "      <td>0.0</td>\n",
       "      <td>0.0</td>\n",
       "      <td>0.0</td>\n",
       "      <td>0.0</td>\n",
       "      <td>0.0</td>\n",
       "      <td>1</td>\n",
       "    </tr>\n",
       "    <tr>\n",
       "      <th>PAR173</th>\n",
       "      <td>0</td>\n",
       "      <td>75.51</td>\n",
       "      <td>3</td>\n",
       "      <td>1.0</td>\n",
       "      <td>III</td>\n",
       "      <td>0</td>\n",
       "      <td>7.0</td>\n",
       "      <td>1.0</td>\n",
       "      <td>2.0</td>\n",
       "      <td>0.0</td>\n",
       "      <td>0.0</td>\n",
       "      <td>0.0</td>\n",
       "      <td>1.0</td>\n",
       "      <td>2.0</td>\n",
       "      <td>0.0</td>\n",
       "      <td>0</td>\n",
       "      <td>0</td>\n",
       "      <td>0.0</td>\n",
       "      <td>0.0</td>\n",
       "      <td>0.0</td>\n",
       "      <td>0.0</td>\n",
       "      <td>0.0</td>\n",
       "      <td>1.0</td>\n",
       "      <td>0.0</td>\n",
       "      <td>0.0</td>\n",
       "      <td>0.0</td>\n",
       "      <td>0</td>\n",
       "    </tr>\n",
       "    <tr>\n",
       "      <th>PAR174</th>\n",
       "      <td>0</td>\n",
       "      <td>94.07</td>\n",
       "      <td>3</td>\n",
       "      <td>0.0</td>\n",
       "      <td>II</td>\n",
       "      <td>0</td>\n",
       "      <td>15.0</td>\n",
       "      <td>0.0</td>\n",
       "      <td>1.0</td>\n",
       "      <td>1.0</td>\n",
       "      <td>0.0</td>\n",
       "      <td>0.0</td>\n",
       "      <td>0.0</td>\n",
       "      <td>2.0</td>\n",
       "      <td>0.0</td>\n",
       "      <td>0</td>\n",
       "      <td>0</td>\n",
       "      <td>0.0</td>\n",
       "      <td>0.0</td>\n",
       "      <td>0.0</td>\n",
       "      <td>0.0</td>\n",
       "      <td>0.0</td>\n",
       "      <td>0.0</td>\n",
       "      <td>0.0</td>\n",
       "      <td>0.0</td>\n",
       "      <td>0.0</td>\n",
       "      <td>2</td>\n",
       "    </tr>\n",
       "  </tbody>\n",
       "</table>\n",
       "</div>"
      ],
      "text/plain": [
       "            gender    age  t_stage_mod_6is4_7is1  n_stage UICC_TNM  \\\n",
       "OfficialID                                                           \n",
       "PAR170           0  34.08                      3      1.0      III   \n",
       "PAR171           0  84.48                      4      0.0       II   \n",
       "PAR172           1  61.05                      4      2.0      III   \n",
       "PAR173           0  75.51                      3      1.0      III   \n",
       "PAR174           0  94.07                      3      0.0       II   \n",
       "\n",
       "            postop_chemo  nlnode  plnode  sidedness  ascending  transverse  \\\n",
       "OfficialID                                                                   \n",
       "PAR170                 1    43.0     3.0        1.0        1.0         0.0   \n",
       "PAR171                 0    13.0     0.0        1.0        1.0         0.0   \n",
       "PAR172                 0    21.0     4.0        2.0        0.0         0.0   \n",
       "PAR173                 0     7.0     1.0        2.0        0.0         0.0   \n",
       "PAR174                 0    15.0     0.0        1.0        1.0         0.0   \n",
       "\n",
       "            descending  sigmoid  differentiation  mucinous_colloide  \\\n",
       "OfficialID                                                            \n",
       "PAR170             0.0      0.0              1.0                0.0   \n",
       "PAR171             0.0      0.0              1.0                1.0   \n",
       "PAR172             0.0      1.0              1.0                0.0   \n",
       "PAR173             0.0      1.0              2.0                0.0   \n",
       "PAR174             0.0      0.0              2.0                0.0   \n",
       "\n",
       "            occlusion  perforation  venous_emboli  lymphatic_invasion  \\\n",
       "OfficialID                                                              \n",
       "PAR170              0            0            0.0                 0.0   \n",
       "PAR171              0            0            0.0                 0.0   \n",
       "PAR172              0            0            1.0                 0.0   \n",
       "PAR173              0            0            0.0                 0.0   \n",
       "PAR174              0            0            0.0                 0.0   \n",
       "\n",
       "            perineural_invasion  msi_gen  p53_status  kras_status  apc_status  \\\n",
       "OfficialID                                                                      \n",
       "PAR170                      0.0      0.0         0.0          0.0         0.0   \n",
       "PAR171                      0.0      0.0         0.0          0.0         0.0   \n",
       "PAR172                      0.0      0.0         0.0          0.0         0.0   \n",
       "PAR173                      0.0      0.0         0.0          1.0         0.0   \n",
       "PAR174                      0.0      0.0         0.0          0.0         0.0   \n",
       "\n",
       "            braf_status  pi3k_status  Immunoscore  \n",
       "OfficialID                                         \n",
       "PAR170              0.0          0.0            1  \n",
       "PAR171              0.0          0.0            0  \n",
       "PAR172              0.0          0.0            1  \n",
       "PAR173              0.0          0.0            0  \n",
       "PAR174              0.0          0.0            2  "
      ]
     },
     "execution_count": 2,
     "metadata": {},
     "output_type": "execute_result"
    }
   ],
   "source": [
    "X, Y, delta = load_Data_forCox()\n",
    "X.head()"
   ]
  },
  {
   "cell_type": "markdown",
   "metadata": {},
   "source": [
    "## Dividing in train and test set"
   ]
  },
  {
   "cell_type": "code",
   "execution_count": 3,
   "metadata": {},
   "outputs": [
    {
     "name": "stdout",
     "output_type": "stream",
     "text": [
      "70% for training, 30% for testing.\n"
     ]
    }
   ],
   "source": [
    "X.index = np.arange(X.shape[0])\n",
    "delta.index = np.arange(X.shape[0])\n",
    "Y.index = np.arange(X.shape[0])\n",
    "\n",
    "## Split data into training and test sets ##\n",
    "test_size = .3  # proportion of data used for testing\n",
    "rs = ShuffleSplit(n_splits=1, test_size=test_size, random_state=0)\n",
    "\n",
    "for train_index, test_index in rs.split(X):\n",
    "    X_test = X.loc[test_index]\n",
    "    delta_test = delta.loc[test_index]\n",
    "    Y_test = Y.loc[test_index]\n",
    "\n",
    "    X = X.loc[train_index]\n",
    "    Y = Y.loc[train_index]\n",
    "    delta = delta.loc[train_index]  \n",
    "    \n",
    "print(\"%d%% for training, %d%% for testing.\" \n",
    "      % ((1 - test_size) * 100, test_size * 100))"
   ]
  },
  {
   "cell_type": "markdown",
   "metadata": {},
   "source": [
    "## Retrouver la p_value du test de Wald avec l'immunoscore univarié"
   ]
  },
  {
   "cell_type": "code",
   "execution_count": 4,
   "metadata": {},
   "outputs": [
    {
     "data": {
      "text/plain": [
       "Immunoscore       int8\n",
       "Y              float64\n",
       "delta            int64\n",
       "dtype: object"
      ]
     },
     "execution_count": 4,
     "metadata": {},
     "output_type": "execute_result"
    }
   ],
   "source": [
    "df=X[['Immunoscore']].astype(np.int8)\n",
    "df[\"Y\"] = Y\n",
    "df[\"delta\"] = delta\n",
    "df.dtypes"
   ]
  },
  {
   "cell_type": "code",
   "execution_count": 5,
   "metadata": {},
   "outputs": [
    {
     "name": "stdout",
     "output_type": "stream",
     "text": [
      "n=207, number of events=42\n",
      "\n",
      "               coef  exp(coef)  se(coef)       z      p  lower 0.95  upper 0.95     \n",
      "Immunoscore -0.9072     0.4036    0.2599 -3.4913 0.0005     -1.4165     -0.3979  ***\n",
      "---\n",
      "Signif. codes:  0 '***' 0.001 '**' 0.01 '*' 0.05 '.' 0.1 ' ' 1 \n",
      "\n",
      "Concordance = 0.646\n"
     ]
    }
   ],
   "source": [
    "# Using Cox Proportional Hazards model\n",
    "cph = CoxPHFitter()\n",
    "cph.fit(df, duration_col='Y', event_col='delta')\n",
    "cph.print_summary()"
   ]
  },
  {
   "cell_type": "markdown",
   "metadata": {},
   "source": [
    "### C-index in prediction on the test set"
   ]
  },
  {
   "cell_type": "code",
   "execution_count": 6,
   "metadata": {},
   "outputs": [
    {
     "name": "stdout",
     "output_type": "stream",
     "text": [
      "C-index on test set: 0.59\n"
     ]
    }
   ],
   "source": [
    "X_test_immunoscore = X_test[['Immunoscore']].astype(np.int8)\n",
    "hat_beta = cph.summary.coef\n",
    "marker_test = X_test_immunoscore.dot(hat_beta)\n",
    "c_index = concordance_index(np.ravel(Y_test), marker_test, np.ravel(delta_test))\n",
    "c_index = max(c_index, 1 - c_index)\n",
    "print(\"C-index on test set: %.2f\" % c_index)"
   ]
  },
  {
   "cell_type": "markdown",
   "metadata": {},
   "source": [
    "## Modèles de survie multivarié et comparaison du C-index en prédiction"
   ]
  },
  {
   "cell_type": "code",
   "execution_count": 7,
   "metadata": {
    "collapsed": true
   },
   "outputs": [],
   "source": [
    "X, Y, delta = load_Data_forCox()\n",
    "\n",
    "X.index = np.arange(X.shape[0])\n",
    "delta.index = np.arange(X.shape[0])\n",
    "Y.index = np.arange(X.shape[0])"
   ]
  },
  {
   "cell_type": "code",
   "execution_count": 8,
   "metadata": {
    "collapsed": true
   },
   "outputs": [],
   "source": [
    "X_cont = X[[\"age\", \"nlnode\", \"plnode\"]]\n",
    "scaler = StandardScaler()\n",
    "X_cont = pd.DataFrame(scaler.fit_transform(X_cont), columns=X_cont.columns)\n",
    "X.drop([\"age\", \"nlnode\", \"plnode\"], axis=1, inplace=True)\n",
    "\n",
    "binarizer = FeaturesBinarizer(remove_first=True)\n",
    "X_bin = binarizer.fit_transform(X)\n",
    "X_bin = X_bin.todense()\n",
    "blocks_start = binarizer.blocks_start\n",
    "blocks_length = binarizer.blocks_length\n",
    "\n",
    "columns_names = []\n",
    "for i in range(X.shape[1]):\n",
    "    for j in range(1, blocks_length[i]):\n",
    "        columns_names += [X.columns[i] + \"=\" + str(j)]\n",
    "        \n",
    "X_bin = pd.DataFrame(X_bin, columns=columns_names)\n",
    "X = pd.concat([X_cont,X_bin], axis=1)"
   ]
  },
  {
   "cell_type": "markdown",
   "metadata": {},
   "source": [
    "## TODO: \n",
    "Je te laisse creuser un peu le code de binarization, ça te permettra de bien le maitriser et de bien comprendre ce qui est fait. Ce qu'il faut c'est retrouver les vrais valeurs des catégories plutôt que de mettre `str(j)` dans les columns_names ds le code au dessus, de façon à pouvoir interpréter correctement ensuite."
   ]
  },
  {
   "cell_type": "code",
   "execution_count": 9,
   "metadata": {},
   "outputs": [
    {
     "name": "stdout",
     "output_type": "stream",
     "text": [
      "70% for training, 30% for testing.\n"
     ]
    }
   ],
   "source": [
    "## Split data into training and test sets ##\n",
    "test_size = .3  # proportion of data used for testing\n",
    "rs = ShuffleSplit(n_splits=1, test_size=test_size, random_state=0)\n",
    "\n",
    "for train_index, test_index in rs.split(X):\n",
    "    X_test = X.loc[test_index]\n",
    "    delta_test = delta.loc[test_index]\n",
    "    Y_test = Y.loc[test_index]\n",
    "\n",
    "    X = X.loc[train_index]\n",
    "    Y = Y.loc[train_index]\n",
    "    delta = delta.loc[train_index]  \n",
    "    \n",
    "print(\"%d%% for training, %d%% for testing.\" \n",
    "      % ((1 - test_size) * 100, test_size * 100))"
   ]
  },
  {
   "cell_type": "code",
   "execution_count": 10,
   "metadata": {},
   "outputs": [
    {
     "name": "stdout",
     "output_type": "stream",
     "text": [
      "n=207, number of events=42\n",
      "\n",
      "                            coef          exp(coef)  se(coef)       z      p  lower 0.95  upper 0.95     \n",
      "age                       0.3541             1.4249    0.2207  1.6044 0.1086     -0.0785      0.7867     \n",
      "nlnode                   -0.4729             0.6232    0.2893 -1.6345 0.1022     -1.0399      0.0942     \n",
      "plnode                    0.7123             2.0386    0.2200  3.2374 0.0012      0.2811      1.1435   **\n",
      "gender=1                 -0.2924             0.7465    0.3829 -0.7637 0.4451     -1.0428      0.4580     \n",
      "t_stage_mod_6is4_7is1=1  13.4409        687567.9480  474.0308  0.0284 0.9774   -915.6425    942.5243     \n",
      "t_stage_mod_6is4_7is1=2  28.0834 1572044958939.0122 1546.7711  0.0182 0.9855  -3003.5323   3059.6991     \n",
      "t_stage_mod_6is4_7is1=3  28.6492 2768277332243.5752 1546.7712  0.0185 0.9852  -3002.9665   3060.2650     \n",
      "n_stage=1                 6.8977           990.0000       nan     nan    nan         nan         nan     \n",
      "n_stage=2                 5.4878           241.7247       nan     nan    nan         nan         nan     \n",
      "UICC_TNM=1              -14.9659             0.0000 1472.3437 -0.0102 0.9919  -2900.7066   2870.7748     \n",
      "UICC_TNM=2              -20.9524             0.0000       nan     nan    nan         nan         nan     \n",
      "postop_chemo=1            0.3523             1.4223    0.5614  0.6275 0.5304     -0.7481      1.4527     \n",
      "postop_chemo=2            0.7230             2.0605    0.7479  0.9667 0.3337     -0.7428      2.1887     \n",
      "sidedness=1              -4.6066             0.0100       nan     nan    nan         nan         nan     \n",
      "ascending=1              10.2283         27676.4842       nan     nan    nan         nan         nan     \n",
      "transverse=1             10.2966         29633.0997       nan     nan    nan         nan         nan     \n",
      "descending=1             13.9575       1152598.9517 2361.6285  0.0059 0.9953  -4614.7494   4642.6644     \n",
      "sigmoid=1                14.8315       2762005.0734 2361.6284  0.0063 0.9950  -4613.8752   4643.5381     \n",
      "differentiation=1         0.1133             1.1199    0.5132  0.2207 0.8253     -0.8926      1.1191     \n",
      "differentiation=2         0.5613             1.7530    0.9207  0.6097 0.5421     -1.2432      2.3659     \n",
      "mucinous_colloide=1       0.1312             1.1402    0.4365  0.3006 0.7637     -0.7243      0.9867     \n",
      "occlusion=1              -0.2420             0.7851    0.5455 -0.4436 0.6574     -1.3111      0.8272     \n",
      "perforation=1             0.9518             2.5903    0.7728  1.2316 0.2181     -0.5629      2.4664     \n",
      "venous_emboli=1           0.6688             1.9519    0.5078  1.3172 0.1878     -0.3264      1.6640     \n",
      "lymphatic_invasion=1      0.3105             1.3642    0.4903  0.6333 0.5265     -0.6505      1.2716     \n",
      "perineural_invasion=1    -0.5611             0.5706    0.6431 -0.8725 0.3829     -1.8214      0.6993     \n",
      "msi_gen=1                 0.0099             1.0099    0.7635  0.0129 0.9897     -1.4866      1.5063     \n",
      "p53_status=1              1.1099             3.0342    0.7735  1.4349 0.1513     -0.4061      2.6260     \n",
      "kras_status=1            -1.8787             0.1528    0.9891 -1.8994 0.0575     -3.8174      0.0599    .\n",
      "apc_status=1              0.2884             1.3343    0.9495  0.3038 0.7613     -1.5726      2.1495     \n",
      "braf_status=1            -0.6233             0.5362    1.0263 -0.6073 0.5436     -2.6349      1.3883     \n",
      "pi3k_status=1           -15.4090             0.0000  776.3084 -0.0198 0.9842  -1536.9456   1506.1276     \n",
      "Immunoscore=1            -1.6008             0.2017    0.4129 -3.8774 0.0001     -2.4100     -0.7916  ***\n",
      "Immunoscore=2            -1.3813             0.2512    0.6513 -2.1208 0.0339     -2.6580     -0.1047    *\n",
      "---\n",
      "Signif. codes:  0 '***' 0.001 '**' 0.01 '*' 0.05 '.' 0.1 ' ' 1 \n",
      "\n",
      "Concordance = 0.820\n"
     ]
    }
   ],
   "source": [
    "df = X.copy()\n",
    "df[\"Y\"] = Y\n",
    "df[\"delta\"] = delta\n",
    "\n",
    "# Using Cox Proportional Hazards model\n",
    "cph = CoxPHFitter()\n",
    "cph.fit(df, duration_col='Y', event_col='delta')\n",
    "cph.print_summary()"
   ]
  },
  {
   "cell_type": "markdown",
   "metadata": {},
   "source": [
    "## Result in prediction"
   ]
  },
  {
   "cell_type": "code",
   "execution_count": 11,
   "metadata": {},
   "outputs": [
    {
     "name": "stdout",
     "output_type": "stream",
     "text": [
      "C-index on test set: 0.62\n"
     ]
    }
   ],
   "source": [
    "hat_beta = cph.summary.coef\n",
    "marker_test = X_test.dot(hat_beta)\n",
    "c_index = concordance_index(np.ravel(Y_test), marker_test, np.ravel(delta_test))\n",
    "c_index = max(c_index, 1 - c_index)\n",
    "print(\"C-index on test set: %.2f\" % c_index)"
   ]
  },
  {
   "cell_type": "markdown",
   "metadata": {},
   "source": [
    "### donc simplement en prenant en compte toutes les variables cliniques que l'on a encodé, on améliore le C-index de prédiction en passant de 0.59 à 0.62.\n",
    "\n",
    "Reste maintenant à travailler sur les images avec les différentes méthodes d'extraction: c'est là dessus que le potentiel est énorme pour améliorer les performances."
   ]
  },
  {
   "cell_type": "markdown",
   "metadata": {},
   "source": [
    "## Elastic-net Cox "
   ]
  },
  {
   "cell_type": "markdown",
   "metadata": {},
   "source": [
    "Voici le code pour entraîner un cox avec une pénalité Elastic-Net, qui te sera très utile puisque la dimension du problème va significativement augmenter.\n",
    "\n",
    "On fait appel au package glmnet (https://web.stanford.edu/~hastie/Papers/v39i05.pdf) de R depuis ce notebook python grâce au package rpy2 qu'il te faut installer."
   ]
  },
  {
   "cell_type": "markdown",
   "metadata": {},
   "source": [
    "## TODO: \n",
    "mettre Y en jours (ce sera des entiers c'est mieux) et remplacer les Y=0 par Y=1 jour car Y=0 pose pb ds la plapart des modèles"
   ]
  },
  {
   "cell_type": "code",
   "execution_count": 12,
   "metadata": {
    "collapsed": true
   },
   "outputs": [],
   "source": [
    "# je remplace ici les Y=0 par Y=1 jours\n",
    "Y[Y==0] = 1/30"
   ]
  },
  {
   "cell_type": "code",
   "execution_count": 13,
   "metadata": {
    "collapsed": true
   },
   "outputs": [],
   "source": [
    "%R -i X,Y,delta\n",
    "%R library(survival)\n",
    "%R library(ggfortify)\n",
    "%R library(glmnet)\n",
    "%R Y = as.numeric(data.matrix(Y))\n",
    "%R delta = as.numeric(data.matrix(delta))\n",
    "%R cv = cv.glmnet(as.matrix(X),\\\n",
    "                  Surv(time=Y, event=delta, type=\"right\"),\\\n",
    "                  family=\"cox\",\\\n",
    "                  alpha=.9)\n",
    "#%R gammaChosen = cv$lambda.1se\n",
    "%R gammaChosen = cv$lambda.min\n",
    "%R fit <- glmnet(as.matrix(X),\\\n",
    "                 Surv(time=Y,event=delta,type=\"right\"),\\\n",
    "                 lambda=gammaChosen,\\\n",
    "                 family=\"cox\",\\\n",
    "                 alpha=.9)\n",
    "%R coeffs <- as.vector(fit$beta)\n",
    "%R -o coeffs"
   ]
  },
  {
   "cell_type": "code",
   "execution_count": 21,
   "metadata": {},
   "outputs": [
    {
     "data": {
      "image/png": "[encoded data removed]",
      "text/plain": [
       "<Figure size 864x216 with 1 Axes>"
      ]
     },
     "metadata": {},
     "output_type": "display_data"
    }
   ],
   "source": [
    "hat_beta_cox_EL = np.array(coeffs)\n",
    "\n",
    "fig = pl.figure(figsize=(12, 3))\n",
    "ax = fig.add_subplot(111)\n",
    "ax.stem(hat_beta_cox_EL, 'b', markerfmt='bo')\n",
    "ax.set_xlim([-5, len(hat_beta_cox_EL) + 5])\n",
    "pl.yticks(fontsize = 18)\n",
    "pl.xticks(np.arange(len(hat_beta_cox_EL)), X.columns, rotation=90)\n",
    "pl.show()"
   ]
  },
  {
   "cell_type": "markdown",
   "metadata": {},
   "source": [
    "## TODO: \n",
    "essayer de faire tourner un Cox classique (CoxPHFitter) sur le support du $\\beta$ Elastic-Net (i.e. en gardant que les variables dont le coeff est non nul) et voir si ça améliore les prédictions."
   ]
  },
  {
   "cell_type": "markdown",
   "metadata": {},
   "source": [
    "# C-mix model \n",
    "Il faut que tu installes le package en suivant les indications ici https://github.com/SimonBussy/C-mix"
   ]
  },
  {
   "cell_type": "code",
   "execution_count": 36,
   "metadata": {},
   "outputs": [
    {
     "name": "stdout",
     "output_type": "stream",
     "text": [
      "\n",
      "Launching C-mix...\n",
      "\n",
      "Testing l_elastic_net=5.71e-05 on fold  0 1 2 3 4: avg_score=5.92e-01\n",
      "Testing l_elastic_net=7.85e-05 on fold  0 1 2 3 4: avg_score=6.14e-01\n",
      "Testing l_elastic_net=1.08e-04 on fold  0 1 2 3 4: avg_score=6.59e-01\n",
      "Testing l_elastic_net=1.48e-04 on fold  0 1 2 3 4: avg_score=6.14e-01\n",
      "Testing l_elastic_net=2.03e-04 on fold  0 1 2 3 4: avg_score=7.01e-01\n",
      "Testing l_elastic_net=2.80e-04 on fold  0 1 2 3 4: avg_score=6.30e-01\n",
      "Testing l_elastic_net=3.84e-04 on fold  0 1 2 3 4: avg_score=6.72e-01\n",
      "Testing l_elastic_net=5.28e-04 on fold  0 1 2 3 4: avg_score=5.94e-01\n",
      "Testing l_elastic_net=7.25e-04 on fold  0 1 2 3 4: avg_score=6.60e-01\n",
      "Testing l_elastic_net=9.96e-04 on fold  0 1 2 3 4: avg_score=6.13e-01\n",
      "Testing l_elastic_net=1.37e-03 on fold  0 1 2 3 4: avg_score=6.85e-01\n",
      "Testing l_elastic_net=1.88e-03 on fold  0 1 2 3 4: avg_score=7.09e-01\n",
      "Testing l_elastic_net=2.58e-03 on fold  0 1 2 3 4: avg_score=6.58e-01\n",
      "Testing l_elastic_net=3.55e-03 on fold  0 1 2 3 4: avg_score=7.09e-01\n",
      "Testing l_elastic_net=4.87e-03 on fold  0 1 2 3 4: avg_score=6.33e-01\n",
      "Testing l_elastic_net=6.70e-03 on fold  0 1 2 3 4: avg_score=7.28e-01\n",
      "Testing l_elastic_net=9.20e-03 on fold  0 1 2 3 4: avg_score=6.99e-01\n",
      "Testing l_elastic_net=1.26e-02 on fold  0 1 2 3 4: avg_score=6.82e-01\n",
      "Testing l_elastic_net=1.74e-02 on fold  0 1 2 3 4: avg_score=6.73e-01\n",
      "Testing l_elastic_net=2.38e-02 on fold  0 1 2 3 4: avg_score=7.30e-01\n",
      "Testing l_elastic_net=3.28e-02 on fold  0 1 2 3 4: avg_score=6.81e-01\n",
      "Testing l_elastic_net=4.50e-02 on fold  0 1 2 3 4: avg_score=6.87e-01\n",
      "Testing l_elastic_net=6.18e-02 on fold  0 1 2 3 4: avg_score=6.40e-01\n",
      "Testing l_elastic_net=8.50e-02 on fold  0 1 2 3 4: avg_score=6.80e-01\n",
      "Testing l_elastic_net=1.17e-01 on fold  0 1 2 3 4: avg_score=6.50e-01\n",
      "Testing l_elastic_net=1.60e-01 on fold  0 1 2 3 4: avg_score=4.97e-01\n",
      "Testing l_elastic_net=2.20e-01 on fold  0 1 2 3 4: avg_score=5.00e-01\n",
      "Testing l_elastic_net=3.03e-01 on fold  0 1 2 3 4: avg_score=5.00e-01\n",
      "Testing l_elastic_net=4.16e-01 on fold  0 1 2 3 4: avg_score=5.00e-01\n",
      "Testing l_elastic_net=5.71e-01 on fold  0 1 2 3 4: avg_score=5.00e-01\n",
      "Launching the solver QNEM...\n",
      "init: p0=0.00017446482120139393\n",
      "init: p1=0.04846762254402027\n",
      " n_iter  |   obj    | rel_obj \n",
      "       0 |  5.68608 |        1\n",
      "       1 |  5.57062 | 0.0203061\n",
      "       2 |  5.56575 | 0.000874007\n",
      "       3 |  5.56438 | 0.000245178\n",
      "       4 |  5.56369 | 0.000124105\n",
      "       5 |  5.56331 | 6.94415e-05\n",
      "       6 |   5.5631 | 3.74641e-05\n",
      "       7 |  5.56299 | 1.92554e-05\n",
      "       8 |  5.56294 | 9.60961e-06\n",
      "       9 |  5.56291 | 4.72578e-06\n",
      "      10 |   5.5629 | 2.30763e-06\n",
      "      11 |  5.56289 | 1.12186e-06\n",
      "      12 |  5.56289 | 5.46025e-07\n",
      "At the end: p0=0.00017015324074667003\n",
      "At the end: p1=0.048835172655645985\n",
      "Done solving using QNEM in 4.60e-02 seconds\n"
     ]
    }
   ],
   "source": [
    "n_samples, n_features = X.shape\n",
    "\n",
    "X = np.array(X)\n",
    "Y = np.ravel(Y)\n",
    "delta = np.ravel(delta)\n",
    "X_test = np.array(X_test)\n",
    "Y_test = np.ravel(Y_test)\n",
    "delta_test = np.ravel(delta_test)\n",
    "\n",
    "tol = 1e-6            # tolerance for the convergence stopping criterion \n",
    "eta = 0.3             # parameter controlling the trade-off between l1 \n",
    "                      # and l2 regularization in the elasticNet\n",
    "fit_intercept = True  # whether or not an intercept term is fitted\n",
    "gamma_chosen = '1se'  # way to select l_elasticNet_chosen: '1se' or 'min'\n",
    "warm_start = True     # at each L-BGFS-B iteration, reset beta to 0 or take \n",
    "                      # the previous value \n",
    "grid_size = 30        # grid size for the cross validation procedure\n",
    "metric = 'C-index'    # cross-validation metric: 'log_lik' or 'C-index'\n",
    "verbose = True \n",
    "\n",
    "## Choose between C-mix or CURE model ##\n",
    "model = \"C-mix\"  # \"C-mix\", \"CURE\"       \n",
    "\n",
    "if verbose:\n",
    "    print(\"\\nLaunching %s...\\n\" % model)\n",
    "\n",
    "learner = QNEM(l_elastic_net=0., eta=eta, max_iter=100, tol=tol, \n",
    "               warm_start=warm_start, verbose=verbose, model=model, \n",
    "               fit_intercept=fit_intercept)\n",
    "learner.n_features = n_features         \n",
    "\n",
    "## Cross-validation ##\n",
    "learner.cross_validate(X, Y, delta, n_folds=5, verbose=False, eta=eta, \n",
    "                       grid_size=grid_size, metric=metric)\n",
    "avg_scores = learner.scores.mean(axis=1)\n",
    "l_elastic_net_best = learner.l_elastic_net_best\n",
    "if gamma_chosen == '1se':\n",
    "    l_elastic_net_chosen = learner.l_elastic_net_chosen\n",
    "if gamma_chosen == 'min':\n",
    "    l_elastic_net_chosen = l_elastic_net_best\n",
    "    \n",
    "grid_elastic_net = learner.grid_elastic_net # get the cross-validation grid \n",
    "                                            # to plot learning curves\n",
    "\n",
    "## Run selected model with l_elasticNet_chosen ##\n",
    "learner = QNEM(l_elastic_net=l_elastic_net_chosen, eta=eta, tol=tol,\n",
    "               warm_start=warm_start, verbose=verbose, model=model,\n",
    "               fit_intercept=fit_intercept)\n",
    "learner.n_features = n_features\n",
    "learner.fit(X, Y, delta) "
   ]
  },
  {
   "cell_type": "code",
   "execution_count": 40,
   "metadata": {},
   "outputs": [
    {
     "name": "stdout",
     "output_type": "stream",
     "text": [
      "C-index on test set: 0.65\n"
     ]
    }
   ],
   "source": [
    "## Obtain the marker vector on test set ##\n",
    "coeffs = learner.coeffs\n",
    "marker_test = QNEM.predict_proba(X_test, fit_intercept, coeffs) \n",
    "c_index = concordance_index(Y_test, marker_test, delta_test)\n",
    "c_index = max(c_index, 1 - c_index)\n",
    "print(\"C-index on test set: %.2f\" % c_index)"
   ]
  },
  {
   "cell_type": "markdown",
   "metadata": {},
   "source": [
    "## Donc le C-mix améliore encore les perfs"
   ]
  },
  {
   "cell_type": "code",
   "execution_count": null,
   "metadata": {
    "collapsed": true
   },
   "outputs": [],
   "source": []
  }
 ],
 "metadata": {
  "kernelspec": {
   "display_name": "Python 3",
   "language": "python",
   "name": "python3"
  },
  "language_info": {
   "codemirror_mode": {
    "name": "ipython",
    "version": 3
   },
   "file_extension": ".py",
   "mimetype": "text/x-python",
   "name": "python",
   "nbconvert_exporter": "python",
   "pygments_lexer": "ipython3",
   "version": "3.6.3"
  }
 },
 "nbformat": 4,
 "nbformat_minor": 2
}
