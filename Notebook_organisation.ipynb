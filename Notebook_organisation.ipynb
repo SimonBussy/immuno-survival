{
 "cells": [
  {
   "cell_type": "markdown",
   "metadata": {},
   "source": [
    "# Aim of the study\n",
    "\n"
   ]
  },
  {
   "cell_type": "markdown",
   "metadata": {},
   "source": [
    "# HEGP Generating Images matrix and Immunoscore"
   ]
  },
  {
   "cell_type": "markdown",
   "metadata": {},
   "source": [
    "_**input**_ :<p>&nbsp; </p>\n",
    "- HEGP/Densitymap_new <p>&nbsp; </p>- Dossier contenant les images original (sortie du logiciel Defineons), elles servent à déterminer les coordonnées des tuiles  \n",
    "- HEGP/CD3 Tile Statistics and HEGP/CD8 Tile Statistics <p>&nbsp; </p>- Dossier contenant les fichiers csv de sortie du logiciel Defineons. Ces fichiers contiennent les informations de chaque tuiles: compte lymphocytaire, type de tissu, surface de tissu au sein de la tuile, quelles tuiles sont exclues lors du pre-processing  \n",
    "- Immunoscore_CutOFF.csv <p>&nbsp; </p>- Fichier contenant les cutoffs permettant d'imputer l'immunoscore.  \n",
    "_**output**_:  \n",
    "- Data_output/cache_HEGP <p>&nbsp; </p>- Dossier contenant les matrices créer à partir des données du logiciel Defineons, séparant les cd3 et les cd8.  \n",
    "- Data_output/HEGP_Immunoscore_mean <p>&nbsp; </p>- Fichier contenant les moyennes de marquages lymphocytaire par tissu et par marquage permettant le calcul de l'Immunoscore, et l'immunoscore qui en découle."
   ]
  },
  {
   "cell_type": "markdown",
   "metadata": {},
   "source": [
    "## IS_evaluating_difference"
   ]
  },
  {
   "cell_type": "markdown",
   "metadata": {},
   "source": [
    "_**input**_:<p>&nbsp; </p>\n",
    "* Data_output/HEGP_Immunoscore_mean <p>&nbsp; </p>* Données immunoscore issues des matrices  \n",
    "* Data_output/data_HEGP_Immunoscore_original <p>&nbsp; </p>* Données Immunoscore issues de l'étude SITC  \n",
    "_**output**_:<p>&nbsp; </p>\n",
    "* Data_output/IS_check_MDT_HEGP.csv  <p>&nbsp; </p>* Fichier contenant les scores des 2 etudes, les immunoscores des 2 études, et un boolean OK/False indiquant les patients pour lesquels il y a une différence d'affectation de l'immunoscore  "
   ]
  },
  {
   "cell_type": "markdown",
   "metadata": {},
   "source": [
    "# HEGP Generating Study output"
   ]
  },
  {
   "cell_type": "markdown",
   "metadata": {},
   "source": [
    "_**input**_:<p>&nbsp; </p>\n",
    "* HEGP/SITC_HEGP_ImmunoS.txt  <p>&nbsp; </p>* Fichier contenant toutes les données cliniques, les dates de suivie ( diagnostic, rechute, décés), les immunoscores de l'étude SITC.  \n",
    "_**output**_:<p>&nbsp; </p>\n",
    "* Data_output/data_HEGP_Immunoscore_original <p>&nbsp; </p>* Fichier contenant les résultats originaux de l'étude immunoscore\n",
    "* Data_output/data_HEGP_Survival <p>&nbsp; </p>* Fichier contenant les données de Survie (date et evenements (rechute et deces)), temps de sortie Time to Relapse où l'évenement est la rechute en JOURS, la censure correspondant à l'apparition d'une rechute.\n",
    "* Data_output/data_HEGP_Clinical <p>&nbsp; </p>* Fichier contenant toutes les données cliniques de chaque patients.  "
   ]
  },
  {
   "cell_type": "markdown",
   "metadata": {},
   "source": [
    "# Image Feature"
   ]
  },
  {
   "cell_type": "markdown",
   "metadata": {},
   "source": [
    "## Check_image_features\n",
    "\n",
    "Ce notebook permet de générer des images des matrices de chaque patient\n",
    "Il permet aussi de regarder la taille des vecteurs contenant les Features extraites via Opencv sift.detectAndcompute.\n",
    "Il permet de regarder la taille des images, hauteur/largeur et dimension afin de repérer quelle taille minimale permet d'extraire des features.\n",
    "Des graphes représentant la répartition des dimension pour tous les patients.<p>&nbsp; </p>__Il reste à faire__ : création des vecteurs, tester les auto-encoders. Utiliser les vecteurs dans l'analyse de survie  \n"
   ]
  },
  {
   "cell_type": "markdown",
   "metadata": {},
   "source": [
    "_**input**_:<p>&nbsp; </p>\n",
    "* List_Patient_HEGP <p>&nbsp; </p>* Fichier contenant les OfficialID des patients dont les matrices existent.  \n",
    "* Data_output/cache_HEGP <p>&nbsp; </p>* matrix des chaques patients"
   ]
  },
  {
   "cell_type": "markdown",
   "metadata": {},
   "source": [
    "# Cox analysis\n",
    "Ce notebook permet d'effectuer une analyse de Cox.Univarié ou multivarié.\n",
    "Compare Cox et C-mix sur les données.\n",
    "Graphe des analyses de Survie sont générés."
   ]
  },
  {
   "cell_type": "markdown",
   "metadata": {},
   "source": [
    "_**input**_:<p>&nbsp; </p>  \n",
    "* load_Data_forCox <p>&nbsp; </p>* python script: extrait les données cliniques, les sorties temporelles, la censure des fichiers générés dans le dossier DAta_output. Assigne à chaque données sont type (numérique, catégorique). Pas de sélection de variables faites ici.  "
   ]
  }
 ],
 "metadata": {
  "kernelspec": {
   "display_name": "Python 3",
   "language": "python",
   "name": "python3"
  },
  "language_info": {
   "codemirror_mode": {
    "name": "ipython",
    "version": 3
   },
   "file_extension": ".py",
   "mimetype": "text/x-python",
   "name": "python",
   "nbconvert_exporter": "python",
   "pygments_lexer": "ipython3",
   "version": "3.6.4"
  }
 },
 "nbformat": 4,
 "nbformat_minor": 2
}
