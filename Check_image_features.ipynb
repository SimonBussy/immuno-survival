{
 "cells": [
  {
   "cell_type": "markdown",
   "metadata": {},
   "source": [
    "# Image creation\n",
    "\n",
    "Creating an image based on our matrices to use opencv."
   ]
  },
  {
   "cell_type": "code",
   "execution_count": 79,
   "metadata": {},
   "outputs": [],
   "source": [
    "import os\n",
    "import numpy\n",
    "import pandas\n",
    "import cv2\n",
    "\n",
    "#List of usable patients \n",
    "data_ID=pandas.read_csv(os.path.join('..','List_Patient_HEGP.csv'),sep=\",\")\n",
    "\n",
    "CD3PATH=os.path.join('..','Data_output','cache_HEGP','cd3','PAR170')\n",
    "img_cd3_im=pandas.read_csv(os.path.join(CD3PATH,'Ratio_Cells_per_InvasiveFront'),sep=' ',header=None)\n",
    "img_cd3_ct=pandas.read_csv(os.path.join(CD3PATH,'Ratio_Cells_per_Tumor'),sep=' ',header=None)"
   ]
  },
  {
   "cell_type": "code",
   "execution_count": 80,
   "metadata": {},
   "outputs": [
    {
     "data": {
      "text/plain": [
       "<Figure size 432x288 with 0 Axes>"
      ]
     },
     "metadata": {},
     "output_type": "display_data"
    },
    {
     "data": {
      "image/png": "[encoded data removed]",
      "text/plain": [
       "<Figure size 432x288 with 1 Axes>"
      ]
     },
     "metadata": {},
     "output_type": "display_data"
    },
    {
     "data": {
      "text/plain": [
       "<matplotlib.image.AxesImage at 0x1ae98bcfcc0>"
      ]
     },
     "execution_count": 80,
     "metadata": {},
     "output_type": "execute_result"
    },
    {
     "data": {
      "image/png": "[encoded data removed]",
      "text/plain": [
       "<Figure size 432x288 with 1 Axes>"
      ]
     },
     "metadata": {},
     "output_type": "display_data"
    }
   ],
   "source": [
    "from matplotlib import pyplot as plt\n",
    "plt.gray()\n",
    "plt.show()\n",
    "plt.imshow(img_cd3_ct, interpolation='nearest')\n",
    "\n",
    "plt.gray()\n",
    "plt.show()\n",
    "plt.imshow(img_cd3_im, interpolation='nearest')\n"
   ]
  },
  {
   "cell_type": "code",
   "execution_count": null,
   "metadata": {},
   "outputs": [],
   "source": [
    "plt.savefig('CD3_PAR170.jpg')"
   ]
  },
  {
   "cell_type": "code",
   "execution_count": 6,
   "metadata": {},
   "outputs": [
    {
     "data": {
      "image/png": "[encoded data removed]",
      "text/plain": [
       "<Figure size 432x288 with 1 Axes>"
      ]
     },
     "metadata": {},
     "output_type": "display_data"
    }
   ],
   "source": [
    "CD8PATH=os.path.join('..','Data_output','cache_HEGP','cd8','PAR170')\n",
    "img_cd8=pandas.read_csv(os.path.join(CD8PATH,'Ratio_Cells_per_InvasiveFront'),sep=' ',header=None)\n",
    "plt.gray()\n",
    "plt.imshow(img_cd8, interpolation='nearest')\n",
    "\n",
    "plt.show()"
   ]
  },
  {
   "cell_type": "code",
   "execution_count": 74,
   "metadata": {},
   "outputs": [
    {
     "name": "stdout",
     "output_type": "stream",
     "text": [
      "0 0\n",
      "0 1\n",
      "0 2\n",
      "0 3\n",
      "0 4\n",
      "0 5\n",
      "0 6\n",
      "0 7\n",
      "0 8\n",
      "0 9\n",
      "0 10\n",
      "0 11\n",
      "0 12\n",
      "0 13\n",
      "0 14\n",
      "0 15\n",
      "0 16\n",
      "0 17\n",
      "0 18\n",
      "0 19\n",
      "1 0\n",
      "1 1\n",
      "1 2\n",
      "1 3\n",
      "1 4\n",
      "1 5\n",
      "1 6\n",
      "1 7\n",
      "1 8\n",
      "1 9\n",
      "1 10\n",
      "1 11\n",
      "1 12\n",
      "1 13\n",
      "1 14\n",
      "1 15\n",
      "1 16\n",
      "1 17\n",
      "1 18\n",
      "1 19\n",
      "2 0\n",
      "2 1\n",
      "2 2\n",
      "2 3\n",
      "2 4\n",
      "2 5\n",
      "2 6\n",
      "2 7\n",
      "2 8\n",
      "2 9\n",
      "2 10\n",
      "2 11\n",
      "2 12\n",
      "2 13\n",
      "2 14\n",
      "2 15\n",
      "2 16\n",
      "2 17\n",
      "2 18\n",
      "2 19\n",
      "3 0\n",
      "3 1\n",
      "3 2\n",
      "3 3\n",
      "3 4\n",
      "3 5\n",
      "3 6\n",
      "3 7\n",
      "3 8\n",
      "3 9\n",
      "3 10\n",
      "3 11\n",
      "3 12\n",
      "3 13\n",
      "3 14\n",
      "3 15\n",
      "3 16\n",
      "3 17\n",
      "3 18\n",
      "3 19\n",
      "4 0\n",
      "4 1\n",
      "4 2\n",
      "4 3\n",
      "4 4\n",
      "4 5\n",
      "4 6\n",
      "4 7\n",
      "4 8\n",
      "4 9\n",
      "4 10\n",
      "4 11\n",
      "4 12\n",
      "4 13\n",
      "4 14\n",
      "4 15\n",
      "4 16\n",
      "4 17\n",
      "4 18\n",
      "4 19\n",
      "5 0\n",
      "5 1\n",
      "5 2\n",
      "5 3\n",
      "5 4\n",
      "5 5\n",
      "5 6\n",
      "5 7\n",
      "5 8\n",
      "5 9\n",
      "5 10\n",
      "5 11\n",
      "5 12\n",
      "5 13\n",
      "5 14\n",
      "5 15\n",
      "5 16\n",
      "5 17\n",
      "5 18\n",
      "5 19\n",
      "6 0\n",
      "6 1\n",
      "6 2\n",
      "6 3\n",
      "6 4\n",
      "6 5\n",
      "6 6\n",
      "6 7\n",
      "6 8\n",
      "6 9\n",
      "6 10\n",
      "6 11\n",
      "6 12\n",
      "6 13\n",
      "6 14\n",
      "6 15\n",
      "6 16\n",
      "6 17\n",
      "6 18\n",
      "6 19\n",
      "7 0\n",
      "7 1\n",
      "7 2\n",
      "7 3\n",
      "7 4\n",
      "7 5\n",
      "7 6\n",
      "7 7\n",
      "7 8\n",
      "7 9\n",
      "7 10\n",
      "7 11\n",
      "7 12\n",
      "7 13\n",
      "7 14\n",
      "7 15\n",
      "7 16\n",
      "7 17\n",
      "7 18\n",
      "7 19\n",
      "8 0\n",
      "8 1\n",
      "8 2\n",
      "8 3\n",
      "8 4\n",
      "8 5\n",
      "8 6\n",
      "8 7\n",
      "8 8\n",
      "8 9\n",
      "8 10\n",
      "8 11\n",
      "8 12\n",
      "8 13\n",
      "8 14\n",
      "8 15\n",
      "8 16\n",
      "8 17\n",
      "8 18\n",
      "8 19\n",
      "9 0\n",
      "9 1\n",
      "9 2\n",
      "9 3\n",
      "9 4\n",
      "9 5\n",
      "9 6\n",
      "9 7\n",
      "9 8\n",
      "9 9\n",
      "9 10\n",
      "9 11\n",
      "9 12\n",
      "9 13\n",
      "9 14\n",
      "9 15\n",
      "9 16\n",
      "9 17\n",
      "9 18\n",
      "9 19\n",
      "10 0\n",
      "10 1\n",
      "10 2\n",
      "10 3\n",
      "10 4\n",
      "10 5\n",
      "10 6\n",
      "10 7\n",
      "10 8\n",
      "10 9\n",
      "10 10\n",
      "10 11\n",
      "10 12\n",
      "10 13\n",
      "10 14\n",
      "10 15\n",
      "10 16\n",
      "10 17\n",
      "10 18\n",
      "10 19\n",
      "11 0\n",
      "11 1\n",
      "11 2\n",
      "11 3\n",
      "11 4\n",
      "11 5\n",
      "11 6\n",
      "11 7\n",
      "11 8\n",
      "11 9\n",
      "11 10\n",
      "11 11\n",
      "11 12\n",
      "11 13\n",
      "11 14\n",
      "11 15\n",
      "11 16\n",
      "11 17\n",
      "11 18\n",
      "11 19\n",
      "12 0\n",
      "12 1\n",
      "12 2\n",
      "12 3\n",
      "12 4\n",
      "12 5\n",
      "12 6\n",
      "12 7\n",
      "12 8\n",
      "12 9\n",
      "12 10\n",
      "12 11\n",
      "12 12\n",
      "12 13\n",
      "12 14\n",
      "12 15\n",
      "12 16\n",
      "12 17\n",
      "12 18\n",
      "12 19\n",
      "13 0\n",
      "13 1\n",
      "13 2\n",
      "13 3\n",
      "13 4\n",
      "13 5\n",
      "13 6\n",
      "13 7\n",
      "13 8\n",
      "13 9\n",
      "13 10\n",
      "13 11\n",
      "13 12\n",
      "13 13\n",
      "13 14\n",
      "13 15\n",
      "13 16\n",
      "13 17\n",
      "13 18\n",
      "13 19\n",
      "14 0\n",
      "14 1\n",
      "14 2\n",
      "14 3\n",
      "14 4\n",
      "14 5\n",
      "14 6\n",
      "14 7\n",
      "14 8\n",
      "14 9\n",
      "14 10\n",
      "14 11\n",
      "14 12\n",
      "14 13\n",
      "14 14\n",
      "14 15\n",
      "14 16\n",
      "14 17\n",
      "14 18\n",
      "14 19\n",
      "15 0\n",
      "15 1\n",
      "15 2\n",
      "15 3\n",
      "15 4\n",
      "15 5\n",
      "15 6\n",
      "15 7\n",
      "15 8\n",
      "15 9\n",
      "15 10\n",
      "15 11\n",
      "15 12\n",
      "15 13\n",
      "15 14\n",
      "15 15\n",
      "15 16\n",
      "15 17\n",
      "15 18\n",
      "15 19\n",
      "16 0\n",
      "16 1\n",
      "16 2\n",
      "16 3\n",
      "16 4\n",
      "16 5\n",
      "16 6\n",
      "16 7\n",
      "16 8\n",
      "16 9\n",
      "16 10\n",
      "16 11\n",
      "16 12\n",
      "16 13\n",
      "16 14\n",
      "16 15\n",
      "16 16\n",
      "16 17\n",
      "16 18\n",
      "16 19\n",
      "17 0\n",
      "17 1\n",
      "17 2\n",
      "17 3\n",
      "17 4\n",
      "17 5\n",
      "17 6\n",
      "17 7\n",
      "17 8\n",
      "17 9\n",
      "17 10\n",
      "17 11\n",
      "17 12\n",
      "17 13\n",
      "17 14\n",
      "17 15\n",
      "17 16\n",
      "17 17\n",
      "17 18\n",
      "17 19\n",
      "18 0\n",
      "18 1\n",
      "18 2\n",
      "18 3\n",
      "18 4\n",
      "18 5\n",
      "18 6\n",
      "18 7\n",
      "18 8\n",
      "18 9\n",
      "18 10\n",
      "18 11\n",
      "18 12\n",
      "18 13\n",
      "18 14\n",
      "18 15\n",
      "18 16\n",
      "18 17\n",
      "18 18\n",
      "18 19\n",
      "19 0\n",
      "19 1\n",
      "19 2\n",
      "19 3\n",
      "19 4\n",
      "19 5\n",
      "19 6\n",
      "19 7\n",
      "19 8\n",
      "19 9\n",
      "19 10\n",
      "19 11\n",
      "19 12\n",
      "19 13\n",
      "19 14\n",
      "19 15\n",
      "19 16\n",
      "19 17\n",
      "19 18\n",
      "19 19\n",
      "20 0\n",
      "20 1\n",
      "20 2\n",
      "20 3\n",
      "20 4\n",
      "20 5\n",
      "20 6\n",
      "20 7\n",
      "20 8\n",
      "20 9\n",
      "20 10\n",
      "20 11\n",
      "20 12\n",
      "20 13\n",
      "20 14\n",
      "20 15\n",
      "20 16\n",
      "20 17\n",
      "20 18\n",
      "20 19\n",
      "21 0\n"
     ]
    },
    {
     "ename": "KeyError",
     "evalue": "21",
     "output_type": "error",
     "traceback": [
      "\u001b[1;31m---------------------------------------------------------------------------\u001b[0m",
      "\u001b[1;31mKeyError\u001b[0m                                  Traceback (most recent call last)",
      "\u001b[1;32m~\\Anaconda3\\lib\\site-packages\\pandas\\core\\indexes\\base.py\u001b[0m in \u001b[0;36mget_loc\u001b[1;34m(self, key, method, tolerance)\u001b[0m\n\u001b[0;32m   3062\u001b[0m             \u001b[1;32mtry\u001b[0m\u001b[1;33m:\u001b[0m\u001b[1;33m\u001b[0m\u001b[0m\n\u001b[1;32m-> 3063\u001b[1;33m                 \u001b[1;32mreturn\u001b[0m \u001b[0mself\u001b[0m\u001b[1;33m.\u001b[0m\u001b[0m_engine\u001b[0m\u001b[1;33m.\u001b[0m\u001b[0mget_loc\u001b[0m\u001b[1;33m(\u001b[0m\u001b[0mkey\u001b[0m\u001b[1;33m)\u001b[0m\u001b[1;33m\u001b[0m\u001b[0m\n\u001b[0m\u001b[0;32m   3064\u001b[0m             \u001b[1;32mexcept\u001b[0m \u001b[0mKeyError\u001b[0m\u001b[1;33m:\u001b[0m\u001b[1;33m\u001b[0m\u001b[0m\n",
      "\u001b[1;32mpandas\\_libs\\index.pyx\u001b[0m in \u001b[0;36mpandas._libs.index.IndexEngine.get_loc\u001b[1;34m()\u001b[0m\n",
      "\u001b[1;32mpandas\\_libs\\index.pyx\u001b[0m in \u001b[0;36mpandas._libs.index.IndexEngine.get_loc\u001b[1;34m()\u001b[0m\n",
      "\u001b[1;32mpandas\\_libs\\hashtable_class_helper.pxi\u001b[0m in \u001b[0;36mpandas._libs.hashtable.Int64HashTable.get_item\u001b[1;34m()\u001b[0m\n",
      "\u001b[1;32mpandas\\_libs\\hashtable_class_helper.pxi\u001b[0m in \u001b[0;36mpandas._libs.hashtable.Int64HashTable.get_item\u001b[1;34m()\u001b[0m\n",
      "\u001b[1;31mKeyError\u001b[0m: 21",
      "\nDuring handling of the above exception, another exception occurred:\n",
      "\u001b[1;31mKeyError\u001b[0m                                  Traceback (most recent call last)",
      "\u001b[1;32m<ipython-input-74-148ebb0283e6>\u001b[0m in \u001b[0;36m<module>\u001b[1;34m()\u001b[0m\n\u001b[0;32m      7\u001b[0m     \u001b[1;32mfor\u001b[0m \u001b[0mj\u001b[0m \u001b[1;32min\u001b[0m \u001b[0mrange\u001b[0m\u001b[1;33m(\u001b[0m\u001b[1;33m(\u001b[0m\u001b[0mmatrix2\u001b[0m\u001b[1;33m.\u001b[0m\u001b[0mshape\u001b[0m\u001b[1;33m[\u001b[0m\u001b[1;36m1\u001b[0m\u001b[1;33m]\u001b[0m\u001b[1;33m-\u001b[0m\u001b[1;36m1\u001b[0m\u001b[1;33m)\u001b[0m\u001b[1;33m)\u001b[0m\u001b[1;33m:\u001b[0m\u001b[1;33m\u001b[0m\u001b[0m\n\u001b[0;32m      8\u001b[0m         \u001b[0mprint\u001b[0m\u001b[1;33m(\u001b[0m\u001b[0mi\u001b[0m\u001b[1;33m,\u001b[0m\u001b[0mj\u001b[0m\u001b[1;33m)\u001b[0m\u001b[1;33m\u001b[0m\u001b[0m\n\u001b[1;32m----> 9\u001b[1;33m         \u001b[1;32mif\u001b[0m \u001b[1;33m(\u001b[0m\u001b[0mmatrix1\u001b[0m\u001b[1;33m[\u001b[0m\u001b[0mi\u001b[0m\u001b[1;33m]\u001b[0m\u001b[1;33m[\u001b[0m\u001b[0mj\u001b[0m\u001b[1;33m]\u001b[0m\u001b[1;33m==\u001b[0m\u001b[0mnumpy\u001b[0m\u001b[1;33m.\u001b[0m\u001b[0mnan\u001b[0m \u001b[1;32mor\u001b[0m \u001b[0mmatrix2\u001b[0m\u001b[1;33m[\u001b[0m\u001b[0mi\u001b[0m\u001b[1;33m]\u001b[0m\u001b[1;33m[\u001b[0m\u001b[0mj\u001b[0m\u001b[1;33m]\u001b[0m\u001b[1;33m==\u001b[0m\u001b[0mnumpy\u001b[0m\u001b[1;33m.\u001b[0m\u001b[0mnan\u001b[0m\u001b[1;33m)\u001b[0m \u001b[1;32mand\u001b[0m \u001b[1;32mnot\u001b[0m \u001b[1;33m(\u001b[0m \u001b[0mmatrix1\u001b[0m\u001b[1;33m[\u001b[0m\u001b[0mi\u001b[0m\u001b[1;33m]\u001b[0m\u001b[1;33m[\u001b[0m\u001b[0mj\u001b[0m\u001b[1;33m]\u001b[0m\u001b[1;33m==\u001b[0m\u001b[0mnumpy\u001b[0m\u001b[1;33m.\u001b[0m\u001b[0mnan\u001b[0m \u001b[1;32mand\u001b[0m \u001b[0mmatrix2\u001b[0m\u001b[1;33m[\u001b[0m\u001b[0mi\u001b[0m\u001b[1;33m]\u001b[0m\u001b[1;33m[\u001b[0m\u001b[0mj\u001b[0m\u001b[1;33m]\u001b[0m\u001b[1;33m==\u001b[0m\u001b[0mnumpy\u001b[0m\u001b[1;33m.\u001b[0m\u001b[0mnan\u001b[0m\u001b[1;33m)\u001b[0m  \u001b[1;33m:\u001b[0m\u001b[1;33m\u001b[0m\u001b[0m\n\u001b[0m\u001b[0;32m     10\u001b[0m             \u001b[1;32mif\u001b[0m \u001b[0mmatrix1\u001b[0m\u001b[1;33m[\u001b[0m\u001b[0mi\u001b[0m\u001b[1;33m]\u001b[0m\u001b[1;33m[\u001b[0m\u001b[0mj\u001b[0m\u001b[1;33m]\u001b[0m\u001b[1;33m==\u001b[0m\u001b[0mnumpy\u001b[0m\u001b[1;33m.\u001b[0m\u001b[0mnan\u001b[0m\u001b[1;33m:\u001b[0m\u001b[1;33m\u001b[0m\u001b[0m\n\u001b[0;32m     11\u001b[0m                 \u001b[0mrmatrix\u001b[0m\u001b[1;33m[\u001b[0m\u001b[0mi\u001b[0m\u001b[1;33m]\u001b[0m\u001b[1;33m[\u001b[0m\u001b[0mj\u001b[0m\u001b[1;33m]\u001b[0m \u001b[1;33m=\u001b[0m \u001b[0mmatrix2\u001b[0m\u001b[1;33m[\u001b[0m\u001b[0mi\u001b[0m\u001b[1;33m]\u001b[0m\u001b[1;33m[\u001b[0m\u001b[0mj\u001b[0m\u001b[1;33m]\u001b[0m\u001b[1;33m\u001b[0m\u001b[0m\n",
      "\u001b[1;32m~\\Anaconda3\\lib\\site-packages\\pandas\\core\\frame.py\u001b[0m in \u001b[0;36m__getitem__\u001b[1;34m(self, key)\u001b[0m\n\u001b[0;32m   2683\u001b[0m             \u001b[1;32mreturn\u001b[0m \u001b[0mself\u001b[0m\u001b[1;33m.\u001b[0m\u001b[0m_getitem_multilevel\u001b[0m\u001b[1;33m(\u001b[0m\u001b[0mkey\u001b[0m\u001b[1;33m)\u001b[0m\u001b[1;33m\u001b[0m\u001b[0m\n\u001b[0;32m   2684\u001b[0m         \u001b[1;32melse\u001b[0m\u001b[1;33m:\u001b[0m\u001b[1;33m\u001b[0m\u001b[0m\n\u001b[1;32m-> 2685\u001b[1;33m             \u001b[1;32mreturn\u001b[0m \u001b[0mself\u001b[0m\u001b[1;33m.\u001b[0m\u001b[0m_getitem_column\u001b[0m\u001b[1;33m(\u001b[0m\u001b[0mkey\u001b[0m\u001b[1;33m)\u001b[0m\u001b[1;33m\u001b[0m\u001b[0m\n\u001b[0m\u001b[0;32m   2686\u001b[0m \u001b[1;33m\u001b[0m\u001b[0m\n\u001b[0;32m   2687\u001b[0m     \u001b[1;32mdef\u001b[0m \u001b[0m_getitem_column\u001b[0m\u001b[1;33m(\u001b[0m\u001b[0mself\u001b[0m\u001b[1;33m,\u001b[0m \u001b[0mkey\u001b[0m\u001b[1;33m)\u001b[0m\u001b[1;33m:\u001b[0m\u001b[1;33m\u001b[0m\u001b[0m\n",
      "\u001b[1;32m~\\Anaconda3\\lib\\site-packages\\pandas\\core\\frame.py\u001b[0m in \u001b[0;36m_getitem_column\u001b[1;34m(self, key)\u001b[0m\n\u001b[0;32m   2690\u001b[0m         \u001b[1;31m# get column\u001b[0m\u001b[1;33m\u001b[0m\u001b[1;33m\u001b[0m\u001b[0m\n\u001b[0;32m   2691\u001b[0m         \u001b[1;32mif\u001b[0m \u001b[0mself\u001b[0m\u001b[1;33m.\u001b[0m\u001b[0mcolumns\u001b[0m\u001b[1;33m.\u001b[0m\u001b[0mis_unique\u001b[0m\u001b[1;33m:\u001b[0m\u001b[1;33m\u001b[0m\u001b[0m\n\u001b[1;32m-> 2692\u001b[1;33m             \u001b[1;32mreturn\u001b[0m \u001b[0mself\u001b[0m\u001b[1;33m.\u001b[0m\u001b[0m_get_item_cache\u001b[0m\u001b[1;33m(\u001b[0m\u001b[0mkey\u001b[0m\u001b[1;33m)\u001b[0m\u001b[1;33m\u001b[0m\u001b[0m\n\u001b[0m\u001b[0;32m   2693\u001b[0m \u001b[1;33m\u001b[0m\u001b[0m\n\u001b[0;32m   2694\u001b[0m         \u001b[1;31m# duplicate columns & possible reduce dimensionality\u001b[0m\u001b[1;33m\u001b[0m\u001b[1;33m\u001b[0m\u001b[0m\n",
      "\u001b[1;32m~\\Anaconda3\\lib\\site-packages\\pandas\\core\\generic.py\u001b[0m in \u001b[0;36m_get_item_cache\u001b[1;34m(self, item)\u001b[0m\n\u001b[0;32m   2484\u001b[0m         \u001b[0mres\u001b[0m \u001b[1;33m=\u001b[0m \u001b[0mcache\u001b[0m\u001b[1;33m.\u001b[0m\u001b[0mget\u001b[0m\u001b[1;33m(\u001b[0m\u001b[0mitem\u001b[0m\u001b[1;33m)\u001b[0m\u001b[1;33m\u001b[0m\u001b[0m\n\u001b[0;32m   2485\u001b[0m         \u001b[1;32mif\u001b[0m \u001b[0mres\u001b[0m \u001b[1;32mis\u001b[0m \u001b[1;32mNone\u001b[0m\u001b[1;33m:\u001b[0m\u001b[1;33m\u001b[0m\u001b[0m\n\u001b[1;32m-> 2486\u001b[1;33m             \u001b[0mvalues\u001b[0m \u001b[1;33m=\u001b[0m \u001b[0mself\u001b[0m\u001b[1;33m.\u001b[0m\u001b[0m_data\u001b[0m\u001b[1;33m.\u001b[0m\u001b[0mget\u001b[0m\u001b[1;33m(\u001b[0m\u001b[0mitem\u001b[0m\u001b[1;33m)\u001b[0m\u001b[1;33m\u001b[0m\u001b[0m\n\u001b[0m\u001b[0;32m   2487\u001b[0m             \u001b[0mres\u001b[0m \u001b[1;33m=\u001b[0m \u001b[0mself\u001b[0m\u001b[1;33m.\u001b[0m\u001b[0m_box_item_values\u001b[0m\u001b[1;33m(\u001b[0m\u001b[0mitem\u001b[0m\u001b[1;33m,\u001b[0m \u001b[0mvalues\u001b[0m\u001b[1;33m)\u001b[0m\u001b[1;33m\u001b[0m\u001b[0m\n\u001b[0;32m   2488\u001b[0m             \u001b[0mcache\u001b[0m\u001b[1;33m[\u001b[0m\u001b[0mitem\u001b[0m\u001b[1;33m]\u001b[0m \u001b[1;33m=\u001b[0m \u001b[0mres\u001b[0m\u001b[1;33m\u001b[0m\u001b[0m\n",
      "\u001b[1;32m~\\Anaconda3\\lib\\site-packages\\pandas\\core\\internals.py\u001b[0m in \u001b[0;36mget\u001b[1;34m(self, item, fastpath)\u001b[0m\n\u001b[0;32m   4113\u001b[0m \u001b[1;33m\u001b[0m\u001b[0m\n\u001b[0;32m   4114\u001b[0m             \u001b[1;32mif\u001b[0m \u001b[1;32mnot\u001b[0m \u001b[0misna\u001b[0m\u001b[1;33m(\u001b[0m\u001b[0mitem\u001b[0m\u001b[1;33m)\u001b[0m\u001b[1;33m:\u001b[0m\u001b[1;33m\u001b[0m\u001b[0m\n\u001b[1;32m-> 4115\u001b[1;33m                 \u001b[0mloc\u001b[0m \u001b[1;33m=\u001b[0m \u001b[0mself\u001b[0m\u001b[1;33m.\u001b[0m\u001b[0mitems\u001b[0m\u001b[1;33m.\u001b[0m\u001b[0mget_loc\u001b[0m\u001b[1;33m(\u001b[0m\u001b[0mitem\u001b[0m\u001b[1;33m)\u001b[0m\u001b[1;33m\u001b[0m\u001b[0m\n\u001b[0m\u001b[0;32m   4116\u001b[0m             \u001b[1;32melse\u001b[0m\u001b[1;33m:\u001b[0m\u001b[1;33m\u001b[0m\u001b[0m\n\u001b[0;32m   4117\u001b[0m                 \u001b[0mindexer\u001b[0m \u001b[1;33m=\u001b[0m \u001b[0mnp\u001b[0m\u001b[1;33m.\u001b[0m\u001b[0marange\u001b[0m\u001b[1;33m(\u001b[0m\u001b[0mlen\u001b[0m\u001b[1;33m(\u001b[0m\u001b[0mself\u001b[0m\u001b[1;33m.\u001b[0m\u001b[0mitems\u001b[0m\u001b[1;33m)\u001b[0m\u001b[1;33m)\u001b[0m\u001b[1;33m[\u001b[0m\u001b[0misna\u001b[0m\u001b[1;33m(\u001b[0m\u001b[0mself\u001b[0m\u001b[1;33m.\u001b[0m\u001b[0mitems\u001b[0m\u001b[1;33m)\u001b[0m\u001b[1;33m]\u001b[0m\u001b[1;33m\u001b[0m\u001b[0m\n",
      "\u001b[1;32m~\\Anaconda3\\lib\\site-packages\\pandas\\core\\indexes\\base.py\u001b[0m in \u001b[0;36mget_loc\u001b[1;34m(self, key, method, tolerance)\u001b[0m\n\u001b[0;32m   3063\u001b[0m                 \u001b[1;32mreturn\u001b[0m \u001b[0mself\u001b[0m\u001b[1;33m.\u001b[0m\u001b[0m_engine\u001b[0m\u001b[1;33m.\u001b[0m\u001b[0mget_loc\u001b[0m\u001b[1;33m(\u001b[0m\u001b[0mkey\u001b[0m\u001b[1;33m)\u001b[0m\u001b[1;33m\u001b[0m\u001b[0m\n\u001b[0;32m   3064\u001b[0m             \u001b[1;32mexcept\u001b[0m \u001b[0mKeyError\u001b[0m\u001b[1;33m:\u001b[0m\u001b[1;33m\u001b[0m\u001b[0m\n\u001b[1;32m-> 3065\u001b[1;33m                 \u001b[1;32mreturn\u001b[0m \u001b[0mself\u001b[0m\u001b[1;33m.\u001b[0m\u001b[0m_engine\u001b[0m\u001b[1;33m.\u001b[0m\u001b[0mget_loc\u001b[0m\u001b[1;33m(\u001b[0m\u001b[0mself\u001b[0m\u001b[1;33m.\u001b[0m\u001b[0m_maybe_cast_indexer\u001b[0m\u001b[1;33m(\u001b[0m\u001b[0mkey\u001b[0m\u001b[1;33m)\u001b[0m\u001b[1;33m)\u001b[0m\u001b[1;33m\u001b[0m\u001b[0m\n\u001b[0m\u001b[0;32m   3066\u001b[0m \u001b[1;33m\u001b[0m\u001b[0m\n\u001b[0;32m   3067\u001b[0m         \u001b[0mindexer\u001b[0m \u001b[1;33m=\u001b[0m \u001b[0mself\u001b[0m\u001b[1;33m.\u001b[0m\u001b[0mget_indexer\u001b[0m\u001b[1;33m(\u001b[0m\u001b[1;33m[\u001b[0m\u001b[0mkey\u001b[0m\u001b[1;33m]\u001b[0m\u001b[1;33m,\u001b[0m \u001b[0mmethod\u001b[0m\u001b[1;33m=\u001b[0m\u001b[0mmethod\u001b[0m\u001b[1;33m,\u001b[0m \u001b[0mtolerance\u001b[0m\u001b[1;33m=\u001b[0m\u001b[0mtolerance\u001b[0m\u001b[1;33m)\u001b[0m\u001b[1;33m\u001b[0m\u001b[0m\n",
      "\u001b[1;32mpandas\\_libs\\index.pyx\u001b[0m in \u001b[0;36mpandas._libs.index.IndexEngine.get_loc\u001b[1;34m()\u001b[0m\n",
      "\u001b[1;32mpandas\\_libs\\index.pyx\u001b[0m in \u001b[0;36mpandas._libs.index.IndexEngine.get_loc\u001b[1;34m()\u001b[0m\n",
      "\u001b[1;32mpandas\\_libs\\hashtable_class_helper.pxi\u001b[0m in \u001b[0;36mpandas._libs.hashtable.Int64HashTable.get_item\u001b[1;34m()\u001b[0m\n",
      "\u001b[1;32mpandas\\_libs\\hashtable_class_helper.pxi\u001b[0m in \u001b[0;36mpandas._libs.hashtable.Int64HashTable.get_item\u001b[1;34m()\u001b[0m\n",
      "\u001b[1;31mKeyError\u001b[0m: 21"
     ]
    }
   ],
   "source": [
    "matrix1 = img_cd3_im\n",
    "matrix2 = img_cd3_ct\n",
    "rmatrix = numpy.empty(matrix1.shape)\n",
    "\n",
    "for i in range((matrix2.shape[0]-1)):\n",
    "    \n",
    "    for j in range((matrix2.shape[1]-1)):\n",
    "        print(i,j)\n",
    "        if (matrix1[i][j]==numpy.nan or matrix2[i][j]==numpy.nan) and not ( matrix1[i][j]==numpy.nan and matrix2[i][j]==numpy.nan)  :\n",
    "            if matrix1[i][j]==numpy.nan:\n",
    "                rmatrix[i][j] = matrix2[i][j]\n",
    "            else:\n",
    "                rmatrix[i][j] = matrix1[i][j]\n",
    "        elif matrix1[i][j]==numpy.nan and matrix2[i][j]==numpy.nan:\n",
    "            rmatrix[i][j] = numpy.nan\n",
    "        else:\n",
    "            rmatrix[i][j] = matrix1[i][j] + matrix2[i][j]"
   ]
  },
  {
   "cell_type": "markdown",
   "metadata": {},
   "source": [
    "Probleme quand on essaye d'accéder à la ligne 21 et plus. Cela pourrait avoir une impact sur l'extraction de features.\n",
    "Je ne sais pas pourquoi."
   ]
  },
  {
   "cell_type": "code",
   "execution_count": 77,
   "metadata": {},
   "outputs": [
    {
     "data": {
      "text/plain": [
       "(26, 21)"
      ]
     },
     "execution_count": 77,
     "metadata": {},
     "output_type": "execute_result"
    }
   ],
   "source": [
    "len(matrix1)\n",
    "matrix1.shape[0]\n",
    "range(matrix1.shape[0]-1)\n",
    "matrix1[0][0]\n",
    "img_cd3_im.shape\n"
   ]
  },
  {
   "cell_type": "code",
   "execution_count": 78,
   "metadata": {},
   "outputs": [
    {
     "data": {
      "image/png": "[encoded data removed]",
      "text/plain": [
       "<Figure size 432x288 with 1 Axes>"
      ]
     },
     "metadata": {},
     "output_type": "display_data"
    },
    {
     "data": {
      "image/png": "[encoded data removed]",
      "text/plain": [
       "<Figure size 432x288 with 1 Axes>"
      ]
     },
     "metadata": {},
     "output_type": "display_data"
    }
   ],
   "source": [
    "cd=numpy.add(numpy.nan_to_num(img_cd3_ct.T),numpy.nan_to_num(img_cd3_im.T))\n",
    "plt.gray()\n",
    "plt.imshow(cd, interpolation='nearest')\n",
    "\n",
    "plt.show()\n",
    "cd[cd==0]=numpy.nan\n",
    "plt.gray()\n",
    "plt.imshow(cd, interpolation='nearest')\n",
    "\n",
    "plt.show()"
   ]
  },
  {
   "cell_type": "code",
   "execution_count": null,
   "metadata": {},
   "outputs": [],
   "source": [
    "plt.savefig('CD8_PAR170.jpg')"
   ]
  },
  {
   "cell_type": "code",
   "execution_count": 81,
   "metadata": {},
   "outputs": [],
   "source": [
    "sift = cv2.xfeatures2d.SIFT_create()\n",
    "\n"
   ]
  },
  {
   "cell_type": "code",
   "execution_count": 105,
   "metadata": {},
   "outputs": [],
   "source": [
    "sift = cv2.xfeatures2d.SIFT_create()\n",
    "gen = numpy.array(img_cd3_ct ,dtype=numpy.uint8)\n",
    "kp,des=sift.detectAndCompute(gen,None)"
   ]
  },
  {
   "cell_type": "code",
   "execution_count": 106,
   "metadata": {},
   "outputs": [
    {
     "data": {
      "text/plain": [
       "[<KeyPoint 000001AE98ED4720>,\n",
       " <KeyPoint 000001AE98ED40F0>,\n",
       " <KeyPoint 000001AE98ED46C0>,\n",
       " <KeyPoint 000001AE98ED4510>,\n",
       " <KeyPoint 000001AE98ED4540>,\n",
       " <KeyPoint 000001AE98ED47B0>]"
      ]
     },
     "execution_count": 106,
     "metadata": {},
     "output_type": "execute_result"
    }
   ],
   "source": [
    "kp"
   ]
  },
  {
   "cell_type": "code",
   "execution_count": null,
   "metadata": {},
   "outputs": [],
   "source": [
    "size_vector_cd3.loc['PAR170']"
   ]
  },
  {
   "cell_type": "code",
   "execution_count": 111,
   "metadata": {},
   "outputs": [
    {
     "data": {
      "text/plain": [
       "(7.348757743835449, 12.353886604309082)"
      ]
     },
     "execution_count": 111,
     "metadata": {},
     "output_type": "execute_result"
    }
   ],
   "source": [
    "kp[0].pt"
   ]
  },
  {
   "cell_type": "code",
   "execution_count": 109,
   "metadata": {},
   "outputs": [
    {
     "data": {
      "text/plain": [
       "(7.896059989929199, 10.239636421203613)"
      ]
     },
     "execution_count": 109,
     "metadata": {},
     "output_type": "execute_result"
    }
   ],
   "source": [
    "kp[1].pt"
   ]
  },
  {
   "cell_type": "code",
   "execution_count": 112,
   "metadata": {},
   "outputs": [
    {
     "data": {
      "text/plain": [
       "array([[  2.,   0.,   0.,   0.,   0.,   0.,   0.,   5.,   9.,   0.,   0.,\n",
       "          0.,   0.,   0.,  25.,  74.,  32.,   6.,   2.,   0.,   6.,  33.,\n",
       "         88., 115.,   6.,  11.,  34.,  18.,  41.,  79.,  27.,   6.,  37.,\n",
       "          1.,   0.,   0.,   0.,   0.,   0.,   8., 125.,  11.,   1.,   0.,\n",
       "          0.,   0.,  59., 125.,  49.,  11.,   9.,   0.,  28.,  39., 114.,\n",
       "        125.,   3.,   2.,   1.,   0., 125., 125.,  30.,  11.,  37.,   6.,\n",
       "          0.,   0.,   0.,   0.,   1.,   7., 125.,  91.,   6.,   0.,   0.,\n",
       "          0.,   3.,  49.,  56.,  66.,  39.,   1.,   7.,  11.,  28.,  77.,\n",
       "          5.,  11.,   7.,   7.,  35., 125.,  82.,  22.,   7.,   1.,   1.,\n",
       "          0.,   0.,   0.,  15.,  61., 113.,  14.,   9.,   0.,   0.,   0.,\n",
       "         21., 125.,  60.,  14.,  21.,  27.,   3.,   1.,  13., 103.,   5.,\n",
       "          4.,  23.,  43.,  20.,  14.,  13.,  15.],\n",
       "       [  2.,  16.,   2.,   0.,   0.,   0.,   0.,   0.,  62., 130.,  27.,\n",
       "         13.,   8.,   3.,   5.,   8.,  27.,  10.,   2.,   8.,  40., 118.,\n",
       "         60.,  21.,   0.,   0.,   0.,   1., 102., 134.,   8.,   0.,  15.,\n",
       "         15.,   1.,   0.,   3.,  23.,  20.,  13., 134., 128.,  18.,   3.,\n",
       "          1.,   7.,  13.,  61., 107.,  39., 113., 109.,  44.,  15.,   9.,\n",
       "         15.,   0.,   1.,  45.,  64., 134.,  37.,   1.,   0.,   3.,   3.,\n",
       "          5.,  10.,  17.,  27.,  11.,   5.,  66., 116., 134.,  22.,   9.,\n",
       "          8.,   6.,  19.,  12.,  38., 134., 134.,   1.,   0.,   0.,   1.,\n",
       "          0.,   4.,  80.,  47.,   4.,   1.,   0.,   0.,   0.,   0.,   0.,\n",
       "          1.,   0.,   0.,   0.,   0.,   0.,   5.,  24.,   3.,   0.,   0.,\n",
       "          0.,   0.,   0.,   2.,  34.,  18.,   0.,   0.,   0.,   0.,   0.,\n",
       "          0.,   2.,   2.,   0.,   0.,   0.,   0.],\n",
       "       [  0.,   0.,   0.,   0.,   0.,   0.,   0.,   0.,   9.,  12.,   8.,\n",
       "          4.,   1.,   1.,   2.,  11.,   2.,   9.,  19.,  45.,  10.,   8.,\n",
       "          3.,   3.,   0.,   0.,   0.,   3.,   1.,   1.,   1.,   0.,  29.,\n",
       "          1.,   0.,   0.,   0.,   0.,   0.,  13., 127.,  10.,   3.,   2.,\n",
       "          1.,  22.,  55., 142.,  11.,   5.,   6.,  26.,  20., 142., 142.,\n",
       "         59.,   3.,   0.,   0.,   2.,   2.,  15., 104.,  74.,  60.,   7.,\n",
       "          0.,   0.,   0.,   0.,   0.,   9., 142.,  53.,   2.,   0.,   0.,\n",
       "          6.,  17.,  81.,  94.,  25.,  20.,  14.,  17.,  92., 142.,  36.,\n",
       "         13.,  28.,  23.,  34.,  25.,  26.,  78.,  44.,   6.,   0.,   0.,\n",
       "          0.,   0.,   0.,   0.,   4., 102.,  54.,  43.,   0.,   0.,   0.,\n",
       "          0.,  24.,  28.,  87., 142.,  58.,   7.,   1.,   0.,   1.,   0.,\n",
       "         11.,  99., 114.,  11.,   1.,   0.,   0.],\n",
       "       [  4.,   1.,   0.,   0.,   0.,   0.,   0.,   1., 110.,  18.,   0.,\n",
       "          0.,   0.,   0.,   0., 102.,  80.,  22.,   4.,   0.,   2.,  92.,\n",
       "         50., 124.,   1.,   1.,   1.,   1.,   5., 124., 124.,  42.,   3.,\n",
       "          2.,   0.,   0.,   0.,   0.,   0.,   0., 124., 120.,   0.,   0.,\n",
       "          0.,   0.,   0.,  20., 124., 124.,  11.,   3.,   0.,   8.,   6.,\n",
       "         57.,  33.,   8.,   7.,  28.,  27.,  29.,  60.,  33.,   0.,   0.,\n",
       "          0.,   0.,   0.,   0.,   0.,   0.,  65.,  12.,   1.,   1.,   0.,\n",
       "          0.,   0.,  63., 124.,  68., 113.,  22.,   0.,   0.,   0.,  78.,\n",
       "         19.,  79., 124.,  55.,   5.,   3.,   1.,   3.,   0.,   0.,   0.,\n",
       "          0.,   0.,   0.,   0.,   0.,   2.,   0.,   1.,   1.,   0.,   0.,\n",
       "          0.,   3.,   4.,  30.,  71.,  19.,   0.,   0.,   0.,   4.,   0.,\n",
       "         86., 114.,  40.,   0.,   0.,   0.,   0.],\n",
       "       [  0.,   0.,   0.,   0.,   0.,   0.,   0.,   0.,  91.,  30.,   0.,\n",
       "          0.,   0.,   0.,   0.,   0., 138.,  63.,   9.,  15.,  17.,  15.,\n",
       "          6.,   7.,   5.,  19.,  43.,  16.,  18.,  42.,  23.,   9.,   0.,\n",
       "          0.,   0.,   0.,  20.,  36.,   7.,   6., 126.,  14.,   0.,   0.,\n",
       "          0.,   0.,  27.,  52., 138.,  30.,   0.,   1.,   9.,  12.,  13.,\n",
       "         78.,  27.,   2.,   0.,   4.,  36.,  56.,  38.,  27.,  34.,   7.,\n",
       "          9.,  19.,  55.,  38.,  36.,  95.,  36.,  19.,   7.,   1.,   1.,\n",
       "          0., 138., 138., 100.,  31.,   7.,  17.,  11.,   3.,  54., 138.,\n",
       "         24.,  38.,   7.,   4.,  25.,  53.,  26.,  16.,  68.,  81.,  28.,\n",
       "         10.,   3.,   0.,   2.,  24.,  92., 138.,  52.,   3.,   2.,   0.,\n",
       "         16.,  35.,  27.,  54.,  51.,  58.,  41.,   1.,   4.,   9.,   9.,\n",
       "        104.,  70.,  14.,   9.,  10.,   2.,   0.],\n",
       "       [  0.,  28.,  66.,  17.,  20.,  14.,   5.,   0.,  13.,  62.,  44.,\n",
       "         15.,  10.,  22.,  49.,  48.,  26.,  31.,   9.,   1.,   1.,  26.,\n",
       "         43.,  44.,   9.,   8.,   7.,  13.,  17.,  15.,  44.,  27.,   0.,\n",
       "         68.,  96.,   0.,   0.,   0.,   0.,   0.,  29., 133., 133.,   0.,\n",
       "          0.,   1.,   1.,   3., 114., 133.,  58.,   7.,   4.,  11.,  12.,\n",
       "         16.,   8.,   9.,  92.,  48.,  13.,  20.,  18.,  12.,   0.,   4.,\n",
       "          4.,   0.,   0.,   0.,   4.,   0., 133.,  47.,  16.,   0.,   0.,\n",
       "          0.,   3.,  31., 133.,  65.,  35.,  17.,   5.,   9.,   0.,  53.,\n",
       "          9.,  19.,  62.,  52.,  55.,  45.,   7.,   1.,   2.,   0.,   0.,\n",
       "          0.,   0.,   5.,  66.,  11.,  79.,  31.,   3.,   2.,  12.,  37.,\n",
       "         77.,  17.,  91.,  89., 106.,  68.,   4.,   3.,   1.,  12.,   0.,\n",
       "         28., 133.,  94.,  12.,   0.,   0.,   0.]], dtype=float32)"
      ]
     },
     "execution_count": 112,
     "metadata": {},
     "output_type": "execute_result"
    }
   ],
   "source": [
    "des"
   ]
  },
  {
   "cell_type": "code",
   "execution_count": 83,
   "metadata": {},
   "outputs": [],
   "source": [
    "size_vector_cd3=pandas.DataFrame(data=data_ID['OfficialID'])\n",
    "size_vector_cd3[\"Size_Tumor_kp\"]=numpy.nan\n",
    "size_vector_cd3[\"Size_Tumor_des\"]=numpy.nan\n",
    "size_vector_cd3[\"Size_IM_kp\"]=numpy.nan\n",
    "size_vector_cd3[\"Size_IM_des\"]=numpy.nan\n",
    "size_vector_cd3[\"Size_img_h\"]=numpy.nan\n",
    "size_vector_cd3[\"Size_img_w\"]=numpy.nan\n",
    "size_vector_cd3[\"Size_img\"]=numpy.nan\n",
    "size_vector_cd3.set_index('OfficialID',drop=False,inplace=True)\n",
    "\n",
    "size_vector_cd8=pandas.DataFrame(data=data_ID['OfficialID'])\n",
    "size_vector_cd8[\"Size_Tumor_kp\"]=numpy.nan\n",
    "size_vector_cd8[\"Size_Tumor_des\"]=numpy.nan\n",
    "size_vector_cd8[\"Size_IM_kp\"]=numpy.nan\n",
    "size_vector_cd8[\"Size_IM_des\"]=numpy.nan\n",
    "size_vector_cd8[\"Size_img_h\"]=numpy.nan\n",
    "size_vector_cd8[\"Size_img_w\"]=numpy.nan\n",
    "size_vector_cd8[\"Size_img\"]=numpy.nan\n",
    "size_vector_cd8.set_index('OfficialID',drop=False,inplace=True)"
   ]
  },
  {
   "cell_type": "code",
   "execution_count": 84,
   "metadata": {},
   "outputs": [],
   "source": [
    "for patient_id in data_ID['OfficialID']:\n",
    "    CD3PATH=os.path.join('..','Data_output','cache_HEGP','cd3',patient_id)\n",
    "    img_cd3=pandas.read_csv(os.path.join(CD3PATH,'Ratio_Cells_per_Tumor'),sep=' ',header=None)\n",
    "    size_vector_cd3.loc[patient_id,'Size_img_h']=img_cd3.shape[0]\n",
    "    size_vector_cd3.loc[patient_id,'Size_img_w']=img_cd3.shape[1]\n",
    "    size_vector_cd3.loc[patient_id,'Size_img']=img_cd3.size\n",
    "    gen = numpy.array(img_cd3 ,dtype=numpy.uint8)\n",
    "    \n",
    "    #kps=extract_features(gen)\n",
    "    kp, des = sift.detectAndCompute(gen,None)\n",
    "    try:\n",
    "        size_vector_cd3.loc[patient_id,'Size_Tumor_kp']=des.shape[0]\n",
    "        size_vector_cd3.loc[patient_id,'Size_Tumor_des']=des.shape[1]\n",
    "    except (AttributeError):\n",
    "        pass\n",
    "    img_cd3=pandas.read_csv(os.path.join(CD3PATH,'Ratio_Cells_per_InvasiveFront'),sep=' ',header=None)\n",
    "    gen = numpy.array(img_cd3 ,dtype=numpy.uint8)\n",
    "    #kps=extract_features(gen)\n",
    "    kp, des = sift.detectAndCompute(gen,None)\n",
    "    try:\n",
    "        size_vector_cd3.loc[patient_id,'Size_IM_kp']=des.shape[0]\n",
    "        size_vector_cd3.loc[patient_id,'Size_IM_des']=des.shape[1]\n",
    "    except (AttributeError):\n",
    "        pass\n",
    "    CD8PATH=os.path.join('..','Data_output','cache_HEGP','cd8',patient_id)\n",
    "    img_cd8=pandas.read_csv(os.path.join(CD8PATH,'Ratio_Cells_per_Tumor'),sep=' ',header=None)\n",
    "    size_vector_cd8.loc[patient_id,'Size_img_h']=img_cd8.shape[0]\n",
    "    size_vector_cd8.loc[patient_id,'Size_img_w']=img_cd8.shape[1]\n",
    "    size_vector_cd8.loc[patient_id,'Size_img']=img_cd8.size\n",
    "    gen = numpy.array(img_cd8 ,dtype=numpy.uint8)\n",
    "    \n",
    "    #kps=extract_features(gen)\n",
    "    kp, des = sift.detectAndCompute(gen,None)\n",
    "    try:\n",
    "        size_vector_cd8.loc[patient_id,'Size_Tumor_kp']=des.shape[0]\n",
    "        size_vector_cd8.loc[patient_id,'Size_Tumor_des']=des.shape[1]\n",
    "    except (AttributeError):\n",
    "        pass\n",
    "    img_cd8=pandas.read_csv(os.path.join(CD8PATH,'Ratio_Cells_per_InvasiveFront'),sep=' ',header=None)\n",
    "    gen = numpy.array(img_cd8 ,dtype=numpy.uint8)\n",
    "    #kps=extract_features(gen)\n",
    "    kp, des = sift.detectAndCompute(gen,None)\n",
    "    try:\n",
    "        size_vector_cd8.loc[patient_id,'Size_IM_kp']=des.shape[0]\n",
    "        size_vector_cd8.loc[patient_id,'Size_IM_des']=des.shape[1]\n",
    "    except (AttributeError):\n",
    "        pass"
   ]
  },
  {
   "cell_type": "code",
   "execution_count": 85,
   "metadata": {},
   "outputs": [
    {
     "data": {
      "text/plain": [
       "[1.0, 128.0]"
      ]
     },
     "execution_count": 85,
     "metadata": {},
     "output_type": "execute_result"
    }
   ],
   "source": [
    "[min(size_vector_cd3['Size_Tumor_kp']),min(size_vector_cd3['Size_Tumor_des'])]"
   ]
  },
  {
   "cell_type": "code",
   "execution_count": 86,
   "metadata": {},
   "outputs": [
    {
     "data": {
      "text/plain": [
       "[14.0, 128.0]"
      ]
     },
     "execution_count": 86,
     "metadata": {},
     "output_type": "execute_result"
    }
   ],
   "source": [
    "[max(size_vector_cd3['Size_Tumor_kp']),max(size_vector_cd3['Size_Tumor_des'])]"
   ]
  },
  {
   "cell_type": "code",
   "execution_count": 87,
   "metadata": {},
   "outputs": [
    {
     "data": {
      "text/plain": [
       "[nan, nan]"
      ]
     },
     "execution_count": 87,
     "metadata": {},
     "output_type": "execute_result"
    }
   ],
   "source": [
    "[min(size_vector_cd3['Size_IM_kp']),min(size_vector_cd3['Size_IM_des'])]"
   ]
  },
  {
   "cell_type": "code",
   "execution_count": 88,
   "metadata": {},
   "outputs": [
    {
     "data": {
      "text/plain": [
       "[nan, nan]"
      ]
     },
     "execution_count": 88,
     "metadata": {},
     "output_type": "execute_result"
    }
   ],
   "source": [
    "[max(size_vector_cd3['Size_IM_kp']),max(size_vector_cd3['Size_IM_des'])]"
   ]
  },
  {
   "cell_type": "code",
   "execution_count": 27,
   "metadata": {},
   "outputs": [
    {
     "data": {
      "text/plain": [
       "[1.0, 128.0]"
      ]
     },
     "execution_count": 27,
     "metadata": {},
     "output_type": "execute_result"
    }
   ],
   "source": [
    "[min(size_vector_cd8['Size_Tumor_kp']),min(size_vector_cd8['Size_Tumor_des'])]"
   ]
  },
  {
   "cell_type": "code",
   "execution_count": 91,
   "metadata": {},
   "outputs": [
    {
     "data": {
      "text/plain": [
       "[26.0, 128.0]"
      ]
     },
     "execution_count": 91,
     "metadata": {},
     "output_type": "execute_result"
    }
   ],
   "source": [
    "[max(size_vector_cd8['Size_Tumor_kp']),max(size_vector_cd8['Size_Tumor_des'])]"
   ]
  },
  {
   "cell_type": "code",
   "execution_count": 29,
   "metadata": {},
   "outputs": [
    {
     "data": {
      "text/plain": [
       "[1.0, 128.0]"
      ]
     },
     "execution_count": 29,
     "metadata": {},
     "output_type": "execute_result"
    }
   ],
   "source": [
    "[min(size_vector_cd8['Size_IM_kp']),min(size_vector_cd8['Size_IM_des'])]"
   ]
  },
  {
   "cell_type": "code",
   "execution_count": 92,
   "metadata": {},
   "outputs": [
    {
     "data": {
      "text/plain": [
       "[nan, nan]"
      ]
     },
     "execution_count": 92,
     "metadata": {},
     "output_type": "execute_result"
    }
   ],
   "source": [
    "[max(size_vector_cd8['Size_IM_kp']),max(size_vector_cd8['Size_IM_des'])]"
   ]
  },
  {
   "cell_type": "markdown",
   "metadata": {},
   "source": [
    "# Identifier la taille du vector de features\n",
    "Pour les valeurs manquantes les remplacer par la médiane des vecteurs existants\n"
   ]
  },
  {
   "cell_type": "code",
   "execution_count": 107,
   "metadata": {},
   "outputs": [
    {
     "data": {
      "text/plain": [
       "OfficialID        PAR170\n",
       "Size_Tumor_kp          6\n",
       "Size_Tumor_des       128\n",
       "Size_IM_kp           NaN\n",
       "Size_IM_des          NaN\n",
       "Size_img_h            21\n",
       "Size_img_w            26\n",
       "Size_img             546\n",
       "Name: PAR170, dtype: object"
      ]
     },
     "execution_count": 107,
     "metadata": {},
     "output_type": "execute_result"
    }
   ],
   "source": [
    "size_vector_cd3.loc['PAR170']"
   ]
  },
  {
   "cell_type": "code",
   "execution_count": 90,
   "metadata": {},
   "outputs": [
    {
     "data": {
      "text/plain": [
       "array([  0,   1,   3,   4,   5,   6,   8,  10,  11,  12,  13,  14,  15,\n",
       "        16,  17,  18,  21,  23,  26,  27,  29,  30,  35,  37,  38,  40,\n",
       "        42,  43,  44,  45,  46,  47,  48,  53,  54,  55,  57,  58,  59,\n",
       "        60,  62,  63,  64,  65,  67,  68,  70,  71,  72,  73,  74,  75,\n",
       "        76,  80,  81,  84,  86,  96,  97,  99, 100, 101, 103, 105, 106,\n",
       "       108, 110, 112, 113, 114, 116, 118, 121, 125, 128, 134, 136, 137,\n",
       "       138, 140, 142, 143, 144, 145, 146, 150, 151, 154, 155, 156, 157,\n",
       "       159, 162, 163, 164, 166, 167, 168, 173, 174, 176, 177, 178, 179,\n",
       "       180, 182, 183, 185, 187, 189, 195, 198, 199, 203, 204, 205, 209,\n",
       "       210, 211, 213, 214, 216, 219, 220, 221, 223, 225, 226, 227, 229,\n",
       "       230, 231, 233, 234, 235, 237, 238, 241, 242, 243, 245, 248, 249,\n",
       "       251, 252, 258, 260, 262, 263, 264, 268, 270, 272, 273, 275, 277,\n",
       "       278, 279, 281, 286, 287, 290, 292, 293, 294], dtype=int64)"
      ]
     },
     "execution_count": 90,
     "metadata": {},
     "output_type": "execute_result"
    }
   ],
   "source": [
    " pandas.isnull(size_vector_cd8).any(1).nonzero()[0]"
   ]
  },
  {
   "cell_type": "code",
   "execution_count": 96,
   "metadata": {},
   "outputs": [
    {
     "data": {
      "text/plain": [
       "(17.3590087890625, 12.233915328979492)"
      ]
     },
     "execution_count": 96,
     "metadata": {},
     "output_type": "execute_result"
    }
   ],
   "source": [
    "kp[0].pt"
   ]
  },
  {
   "cell_type": "code",
   "execution_count": 35,
   "metadata": {},
   "outputs": [
    {
     "data": {
      "text/plain": [
       "121"
      ]
     },
     "execution_count": 35,
     "metadata": {},
     "output_type": "execute_result"
    }
   ],
   "source": [
    " len(pandas.isnull(size_vector_cd3).any(1).nonzero()[0])"
   ]
  },
  {
   "cell_type": "code",
   "execution_count": 34,
   "metadata": {},
   "outputs": [
    {
     "data": {
      "text/plain": [
       "155"
      ]
     },
     "execution_count": 34,
     "metadata": {},
     "output_type": "execute_result"
    }
   ],
   "source": [
    "len( pandas.isnull(size_vector_cd8).any(1).nonzero()[0])"
   ]
  },
  {
   "cell_type": "code",
   "execution_count": 43,
   "metadata": {},
   "outputs": [],
   "source": [
    "import matplotlib.pyplot as plt"
   ]
  },
  {
   "cell_type": "code",
   "execution_count": 50,
   "metadata": {},
   "outputs": [
    {
     "data": {
      "text/plain": [
       "<matplotlib.axes._subplots.AxesSubplot at 0x1989b308c88>"
      ]
     },
     "execution_count": 50,
     "metadata": {},
     "output_type": "execute_result"
    },
    {
     "data": {
      "text/plain": [
       "<matplotlib.figure.Figure at 0x1989b5caa58>"
      ]
     },
     "metadata": {},
     "output_type": "display_data"
    },
    {
     "data": {
      "image/png": "[encoded data removed]",
      "text/plain": [
       "<matplotlib.figure.Figure at 0x1989b271400>"
      ]
     },
     "metadata": {},
     "output_type": "display_data"
    }
   ],
   "source": [
    "plt.figure()\n",
    "df=pandas.DataFrame(data=size_vector_cd3['Size_img'])\n",
    "df.plot()"
   ]
  },
  {
   "cell_type": "code",
   "execution_count": 49,
   "metadata": {},
   "outputs": [
    {
     "data": {
      "text/plain": [
       "<matplotlib.axes._subplots.AxesSubplot at 0x1989b521c50>"
      ]
     },
     "execution_count": 49,
     "metadata": {},
     "output_type": "execute_result"
    },
    {
     "data": {
      "text/plain": [
       "<matplotlib.figure.Figure at 0x1989b5ab470>"
      ]
     },
     "metadata": {},
     "output_type": "display_data"
    },
    {
     "data": {
      "image/png": "[encoded data removed]",
      "text/plain": [
       "<matplotlib.figure.Figure at 0x1989b633438>"
      ]
     },
     "metadata": {},
     "output_type": "display_data"
    }
   ],
   "source": [
    "plt.figure()\n",
    "df=pandas.DataFrame(data=size_vector_cd3[['Size_img_h','Size_img_w']])\n",
    "df.plot()"
   ]
  },
  {
   "cell_type": "code",
   "execution_count": 47,
   "metadata": {},
   "outputs": [
    {
     "data": {
      "text/plain": [
       "<matplotlib.axes._subplots.AxesSubplot at 0x1989b33da90>"
      ]
     },
     "execution_count": 47,
     "metadata": {},
     "output_type": "execute_result"
    },
    {
     "data": {
      "image/png": "[encoded data removed]",
      "text/plain": [
       "<matplotlib.figure.Figure at 0x1989b63dcf8>"
      ]
     },
     "metadata": {},
     "output_type": "display_data"
    }
   ],
   "source": [
    "plt.figure()\n",
    "df=size_vector_cd8['Size_img']\n",
    "df.plot()"
   ]
  },
  {
   "cell_type": "code",
   "execution_count": 51,
   "metadata": {},
   "outputs": [
    {
     "data": {
      "text/plain": [
       "<matplotlib.axes._subplots.AxesSubplot at 0x1989b4fb4a8>"
      ]
     },
     "execution_count": 51,
     "metadata": {},
     "output_type": "execute_result"
    },
    {
     "data": {
      "text/plain": [
       "<matplotlib.figure.Figure at 0x1989a1dd2e8>"
      ]
     },
     "metadata": {},
     "output_type": "display_data"
    },
    {
     "data": {
      "image/png": "[encoded data removed]",
      "text/plain": [
       "<matplotlib.figure.Figure at 0x1989b2224e0>"
      ]
     },
     "metadata": {},
     "output_type": "display_data"
    }
   ],
   "source": [
    "plt.figure()\n",
    "df=pandas.DataFrame(data=size_vector_cd8[['Size_img_h','Size_img_w']])\n",
    "df.plot()"
   ]
  },
  {
   "cell_type": "markdown",
   "metadata": {},
   "source": [
    "gen_bow_features\n",
    "\n",
    "clustering et construire l'histogramme\n",
    "\n",
    "possible différent algo clustering\n",
    "\n",
    "\n",
    "isoler tumeur, IM tres petits\n",
    "\n",
    "voir nombre patients"
   ]
  },
  {
   "cell_type": "code",
   "execution_count": 114,
   "metadata": {},
   "outputs": [],
   "source": [
    "size_vector_cd3=pandas.DataFrame(data=data_ID['OfficialID'])\n",
    "size_vector_cd3[\"Size_Tumor_kp\"]=numpy.nan\n",
    "size_vector_cd3[\"Size_Tumor_des\"]=numpy.nan\n",
    "\n",
    "size_vector_cd3[\"Size_img_h\"]=numpy.nan\n",
    "size_vector_cd3[\"Size_img_w\"]=numpy.nan\n",
    "size_vector_cd3[\"Size_img\"]=numpy.nan\n",
    "size_vector_cd3.set_index('OfficialID',drop=False,inplace=True)\n",
    "\n",
    "size_vector_cd8=pandas.DataFrame(data=data_ID['OfficialID'])\n",
    "size_vector_cd8[\"Size_Tumor_kp\"]=numpy.nan\n",
    "size_vector_cd8[\"Size_Tumor_des\"]=numpy.nan\n",
    "\n",
    "size_vector_cd8[\"Size_img_h\"]=numpy.nan\n",
    "size_vector_cd8[\"Size_img_w\"]=numpy.nan\n",
    "size_vector_cd8[\"Size_img\"]=numpy.nan\n",
    "size_vector_cd8.set_index('OfficialID',drop=False,inplace=True)"
   ]
  },
  {
   "cell_type": "code",
   "execution_count": 115,
   "metadata": {},
   "outputs": [],
   "source": [
    "for patient_id in data_ID['OfficialID']:\n",
    "    CD3PATH=os.path.join('..','Data_output','cache_HEGP','cd3',patient_id)\n",
    "    img_cd3=pandas.read_csv(os.path.join(CD3PATH,'Ratio_Cells_per_Tumor'),sep=' ',header=None)\n",
    "    size_vector_cd3.loc[patient_id,'Size_img_h']=img_cd3.shape[0]\n",
    "    size_vector_cd3.loc[patient_id,'Size_img_w']=img_cd3.shape[1]\n",
    "    size_vector_cd3.loc[patient_id,'Size_img']=img_cd3.size\n",
    "    gen = numpy.array(img_cd3 ,dtype=numpy.uint8)\n",
    "    \n",
    "    #kps=extract_features(gen)\n",
    "    kp, des = sift.detectAndCompute(gen,None)\n",
    "    try:\n",
    "        size_vector_cd3.loc[patient_id,'Size_Tumor_kp']=des.shape[0]\n",
    "        size_vector_cd3.loc[patient_id,'Size_Tumor_des']=des.shape[1]\n",
    "    except (AttributeError):\n",
    "        pass\n",
    "    \n",
    "    CD8PATH=os.path.join('..','Data_output','cache_HEGP','cd8',patient_id)\n",
    "    img_cd8=pandas.read_csv(os.path.join(CD8PATH,'Ratio_Cells_per_Tumor'),sep=' ',header=None)\n",
    "    size_vector_cd8.loc[patient_id,'Size_img_h']=img_cd8.shape[0]\n",
    "    size_vector_cd8.loc[patient_id,'Size_img_w']=img_cd8.shape[1]\n",
    "    size_vector_cd8.loc[patient_id,'Size_img']=img_cd8.size\n",
    "    gen = numpy.array(img_cd8 ,dtype=numpy.uint8)\n",
    "    \n",
    "    #kps=extract_features(gen)\n",
    "    kp, des = sift.detectAndCompute(gen,None)\n",
    "    try:\n",
    "        size_vector_cd8.loc[patient_id,'Size_Tumor_kp']=des.shape[0]\n",
    "        size_vector_cd8.loc[patient_id,'Size_Tumor_des']=des.shape[1]\n",
    "    except (AttributeError):\n",
    "        pass\n",
    "    "
   ]
  },
  {
   "cell_type": "code",
   "execution_count": 116,
   "metadata": {},
   "outputs": [
    {
     "data": {
      "text/plain": [
       "42"
      ]
     },
     "execution_count": 116,
     "metadata": {},
     "output_type": "execute_result"
    }
   ],
   "source": [
    " len(pandas.isnull(size_vector_cd3).any(1).nonzero()[0])"
   ]
  },
  {
   "cell_type": "code",
   "execution_count": 117,
   "metadata": {},
   "outputs": [
    {
     "data": {
      "text/plain": [
       "71"
      ]
     },
     "execution_count": 117,
     "metadata": {},
     "output_type": "execute_result"
    }
   ],
   "source": [
    " len(pandas.isnull(size_vector_cd8).any(1).nonzero()[0])"
   ]
  },
  {
   "cell_type": "code",
   "execution_count": 118,
   "metadata": {
    "scrolled": false
   },
   "outputs": [
    {
     "data": {
      "text/html": [
       "<div>\n",
       "<style scoped>\n",
       "    .dataframe tbody tr th:only-of-type {\n",
       "        vertical-align: middle;\n",
       "    }\n",
       "\n",
       "    .dataframe tbody tr th {\n",
       "        vertical-align: top;\n",
       "    }\n",
       "\n",
       "    .dataframe thead th {\n",
       "        text-align: right;\n",
       "    }\n",
       "</style>\n",
       "<table border=\"1\" class=\"dataframe\">\n",
       "  <thead>\n",
       "    <tr style=\"text-align: right;\">\n",
       "      <th></th>\n",
       "      <th>OfficialID</th>\n",
       "      <th>Size_Tumor_kp</th>\n",
       "      <th>Size_Tumor_des</th>\n",
       "      <th>Size_img_h</th>\n",
       "      <th>Size_img_w</th>\n",
       "      <th>Size_img</th>\n",
       "    </tr>\n",
       "    <tr>\n",
       "      <th>OfficialID</th>\n",
       "      <th></th>\n",
       "      <th></th>\n",
       "      <th></th>\n",
       "      <th></th>\n",
       "      <th></th>\n",
       "      <th></th>\n",
       "    </tr>\n",
       "  </thead>\n",
       "  <tbody>\n",
       "    <tr>\n",
       "      <th>PAR170</th>\n",
       "      <td>PAR170</td>\n",
       "      <td>6.0</td>\n",
       "      <td>128.0</td>\n",
       "      <td>21.0</td>\n",
       "      <td>26.0</td>\n",
       "      <td>546.0</td>\n",
       "    </tr>\n",
       "    <tr>\n",
       "      <th>PAR171</th>\n",
       "      <td>PAR171</td>\n",
       "      <td>5.0</td>\n",
       "      <td>128.0</td>\n",
       "      <td>23.0</td>\n",
       "      <td>24.0</td>\n",
       "      <td>552.0</td>\n",
       "    </tr>\n",
       "    <tr>\n",
       "      <th>PAR172</th>\n",
       "      <td>PAR172</td>\n",
       "      <td>5.0</td>\n",
       "      <td>128.0</td>\n",
       "      <td>16.0</td>\n",
       "      <td>35.0</td>\n",
       "      <td>560.0</td>\n",
       "    </tr>\n",
       "    <tr>\n",
       "      <th>PAR173</th>\n",
       "      <td>PAR173</td>\n",
       "      <td>2.0</td>\n",
       "      <td>128.0</td>\n",
       "      <td>14.0</td>\n",
       "      <td>25.0</td>\n",
       "      <td>350.0</td>\n",
       "    </tr>\n",
       "    <tr>\n",
       "      <th>PAR174</th>\n",
       "      <td>PAR174</td>\n",
       "      <td>NaN</td>\n",
       "      <td>NaN</td>\n",
       "      <td>10.0</td>\n",
       "      <td>25.0</td>\n",
       "      <td>250.0</td>\n",
       "    </tr>\n",
       "    <tr>\n",
       "      <th>PAR175</th>\n",
       "      <td>PAR175</td>\n",
       "      <td>1.0</td>\n",
       "      <td>128.0</td>\n",
       "      <td>19.0</td>\n",
       "      <td>23.0</td>\n",
       "      <td>437.0</td>\n",
       "    </tr>\n",
       "    <tr>\n",
       "      <th>PAR176</th>\n",
       "      <td>PAR176</td>\n",
       "      <td>2.0</td>\n",
       "      <td>128.0</td>\n",
       "      <td>24.0</td>\n",
       "      <td>20.0</td>\n",
       "      <td>480.0</td>\n",
       "    </tr>\n",
       "    <tr>\n",
       "      <th>PAR177</th>\n",
       "      <td>PAR177</td>\n",
       "      <td>5.0</td>\n",
       "      <td>128.0</td>\n",
       "      <td>20.0</td>\n",
       "      <td>25.0</td>\n",
       "      <td>500.0</td>\n",
       "    </tr>\n",
       "    <tr>\n",
       "      <th>PAR178</th>\n",
       "      <td>PAR178</td>\n",
       "      <td>NaN</td>\n",
       "      <td>NaN</td>\n",
       "      <td>10.0</td>\n",
       "      <td>8.0</td>\n",
       "      <td>80.0</td>\n",
       "    </tr>\n",
       "    <tr>\n",
       "      <th>PAR180</th>\n",
       "      <td>PAR180</td>\n",
       "      <td>8.0</td>\n",
       "      <td>128.0</td>\n",
       "      <td>20.0</td>\n",
       "      <td>35.0</td>\n",
       "      <td>700.0</td>\n",
       "    </tr>\n",
       "    <tr>\n",
       "      <th>PAR181</th>\n",
       "      <td>PAR181</td>\n",
       "      <td>NaN</td>\n",
       "      <td>NaN</td>\n",
       "      <td>18.0</td>\n",
       "      <td>9.0</td>\n",
       "      <td>162.0</td>\n",
       "    </tr>\n",
       "    <tr>\n",
       "      <th>PAR182</th>\n",
       "      <td>PAR182</td>\n",
       "      <td>1.0</td>\n",
       "      <td>128.0</td>\n",
       "      <td>18.0</td>\n",
       "      <td>24.0</td>\n",
       "      <td>432.0</td>\n",
       "    </tr>\n",
       "    <tr>\n",
       "      <th>PAR183</th>\n",
       "      <td>PAR183</td>\n",
       "      <td>1.0</td>\n",
       "      <td>128.0</td>\n",
       "      <td>17.0</td>\n",
       "      <td>11.0</td>\n",
       "      <td>187.0</td>\n",
       "    </tr>\n",
       "    <tr>\n",
       "      <th>PAR184</th>\n",
       "      <td>PAR184</td>\n",
       "      <td>NaN</td>\n",
       "      <td>NaN</td>\n",
       "      <td>12.0</td>\n",
       "      <td>28.0</td>\n",
       "      <td>336.0</td>\n",
       "    </tr>\n",
       "    <tr>\n",
       "      <th>PAR185</th>\n",
       "      <td>PAR185</td>\n",
       "      <td>6.0</td>\n",
       "      <td>128.0</td>\n",
       "      <td>17.0</td>\n",
       "      <td>30.0</td>\n",
       "      <td>510.0</td>\n",
       "    </tr>\n",
       "    <tr>\n",
       "      <th>PAR186</th>\n",
       "      <td>PAR186</td>\n",
       "      <td>6.0</td>\n",
       "      <td>128.0</td>\n",
       "      <td>22.0</td>\n",
       "      <td>35.0</td>\n",
       "      <td>770.0</td>\n",
       "    </tr>\n",
       "    <tr>\n",
       "      <th>PAR187</th>\n",
       "      <td>PAR187</td>\n",
       "      <td>12.0</td>\n",
       "      <td>128.0</td>\n",
       "      <td>22.0</td>\n",
       "      <td>38.0</td>\n",
       "      <td>836.0</td>\n",
       "    </tr>\n",
       "    <tr>\n",
       "      <th>PAR188</th>\n",
       "      <td>PAR188</td>\n",
       "      <td>5.0</td>\n",
       "      <td>128.0</td>\n",
       "      <td>16.0</td>\n",
       "      <td>29.0</td>\n",
       "      <td>464.0</td>\n",
       "    </tr>\n",
       "    <tr>\n",
       "      <th>PAR189</th>\n",
       "      <td>PAR189</td>\n",
       "      <td>4.0</td>\n",
       "      <td>128.0</td>\n",
       "      <td>14.0</td>\n",
       "      <td>25.0</td>\n",
       "      <td>350.0</td>\n",
       "    </tr>\n",
       "    <tr>\n",
       "      <th>PAR190</th>\n",
       "      <td>PAR190</td>\n",
       "      <td>5.0</td>\n",
       "      <td>128.0</td>\n",
       "      <td>15.0</td>\n",
       "      <td>15.0</td>\n",
       "      <td>225.0</td>\n",
       "    </tr>\n",
       "    <tr>\n",
       "      <th>PAR191</th>\n",
       "      <td>PAR191</td>\n",
       "      <td>7.0</td>\n",
       "      <td>128.0</td>\n",
       "      <td>28.0</td>\n",
       "      <td>34.0</td>\n",
       "      <td>952.0</td>\n",
       "    </tr>\n",
       "    <tr>\n",
       "      <th>PAR192</th>\n",
       "      <td>PAR192</td>\n",
       "      <td>NaN</td>\n",
       "      <td>NaN</td>\n",
       "      <td>9.0</td>\n",
       "      <td>16.0</td>\n",
       "      <td>144.0</td>\n",
       "    </tr>\n",
       "    <tr>\n",
       "      <th>PAR194</th>\n",
       "      <td>PAR194</td>\n",
       "      <td>2.0</td>\n",
       "      <td>128.0</td>\n",
       "      <td>20.0</td>\n",
       "      <td>32.0</td>\n",
       "      <td>640.0</td>\n",
       "    </tr>\n",
       "    <tr>\n",
       "      <th>PAR197</th>\n",
       "      <td>PAR197</td>\n",
       "      <td>5.0</td>\n",
       "      <td>128.0</td>\n",
       "      <td>17.0</td>\n",
       "      <td>31.0</td>\n",
       "      <td>527.0</td>\n",
       "    </tr>\n",
       "    <tr>\n",
       "      <th>PAR198</th>\n",
       "      <td>PAR198</td>\n",
       "      <td>7.0</td>\n",
       "      <td>128.0</td>\n",
       "      <td>29.0</td>\n",
       "      <td>19.0</td>\n",
       "      <td>551.0</td>\n",
       "    </tr>\n",
       "    <tr>\n",
       "      <th>PAR199</th>\n",
       "      <td>PAR199</td>\n",
       "      <td>4.0</td>\n",
       "      <td>128.0</td>\n",
       "      <td>22.0</td>\n",
       "      <td>41.0</td>\n",
       "      <td>902.0</td>\n",
       "    </tr>\n",
       "    <tr>\n",
       "      <th>PAR200</th>\n",
       "      <td>PAR200</td>\n",
       "      <td>NaN</td>\n",
       "      <td>NaN</td>\n",
       "      <td>11.0</td>\n",
       "      <td>18.0</td>\n",
       "      <td>198.0</td>\n",
       "    </tr>\n",
       "    <tr>\n",
       "      <th>PAR201</th>\n",
       "      <td>PAR201</td>\n",
       "      <td>NaN</td>\n",
       "      <td>NaN</td>\n",
       "      <td>24.0</td>\n",
       "      <td>23.0</td>\n",
       "      <td>552.0</td>\n",
       "    </tr>\n",
       "    <tr>\n",
       "      <th>PAR202</th>\n",
       "      <td>PAR202</td>\n",
       "      <td>3.0</td>\n",
       "      <td>128.0</td>\n",
       "      <td>17.0</td>\n",
       "      <td>35.0</td>\n",
       "      <td>595.0</td>\n",
       "    </tr>\n",
       "    <tr>\n",
       "      <th>PAR203</th>\n",
       "      <td>PAR203</td>\n",
       "      <td>1.0</td>\n",
       "      <td>128.0</td>\n",
       "      <td>28.0</td>\n",
       "      <td>14.0</td>\n",
       "      <td>392.0</td>\n",
       "    </tr>\n",
       "    <tr>\n",
       "      <th>...</th>\n",
       "      <td>...</td>\n",
       "      <td>...</td>\n",
       "      <td>...</td>\n",
       "      <td>...</td>\n",
       "      <td>...</td>\n",
       "      <td>...</td>\n",
       "    </tr>\n",
       "    <tr>\n",
       "      <th>PAR462</th>\n",
       "      <td>PAR462</td>\n",
       "      <td>12.0</td>\n",
       "      <td>128.0</td>\n",
       "      <td>19.0</td>\n",
       "      <td>41.0</td>\n",
       "      <td>779.0</td>\n",
       "    </tr>\n",
       "    <tr>\n",
       "      <th>PAR463</th>\n",
       "      <td>PAR463</td>\n",
       "      <td>3.0</td>\n",
       "      <td>128.0</td>\n",
       "      <td>22.0</td>\n",
       "      <td>16.0</td>\n",
       "      <td>352.0</td>\n",
       "    </tr>\n",
       "    <tr>\n",
       "      <th>PAR464</th>\n",
       "      <td>PAR464</td>\n",
       "      <td>1.0</td>\n",
       "      <td>128.0</td>\n",
       "      <td>17.0</td>\n",
       "      <td>36.0</td>\n",
       "      <td>612.0</td>\n",
       "    </tr>\n",
       "    <tr>\n",
       "      <th>PAR465</th>\n",
       "      <td>PAR465</td>\n",
       "      <td>8.0</td>\n",
       "      <td>128.0</td>\n",
       "      <td>22.0</td>\n",
       "      <td>21.0</td>\n",
       "      <td>462.0</td>\n",
       "    </tr>\n",
       "    <tr>\n",
       "      <th>PAR466</th>\n",
       "      <td>PAR466</td>\n",
       "      <td>2.0</td>\n",
       "      <td>128.0</td>\n",
       "      <td>17.0</td>\n",
       "      <td>35.0</td>\n",
       "      <td>595.0</td>\n",
       "    </tr>\n",
       "    <tr>\n",
       "      <th>PAR467</th>\n",
       "      <td>PAR467</td>\n",
       "      <td>NaN</td>\n",
       "      <td>NaN</td>\n",
       "      <td>15.0</td>\n",
       "      <td>14.0</td>\n",
       "      <td>210.0</td>\n",
       "    </tr>\n",
       "    <tr>\n",
       "      <th>PAR468</th>\n",
       "      <td>PAR468</td>\n",
       "      <td>1.0</td>\n",
       "      <td>128.0</td>\n",
       "      <td>27.0</td>\n",
       "      <td>29.0</td>\n",
       "      <td>783.0</td>\n",
       "    </tr>\n",
       "    <tr>\n",
       "      <th>PAR469</th>\n",
       "      <td>PAR469</td>\n",
       "      <td>1.0</td>\n",
       "      <td>128.0</td>\n",
       "      <td>18.0</td>\n",
       "      <td>23.0</td>\n",
       "      <td>414.0</td>\n",
       "    </tr>\n",
       "    <tr>\n",
       "      <th>PAR470</th>\n",
       "      <td>PAR470</td>\n",
       "      <td>2.0</td>\n",
       "      <td>128.0</td>\n",
       "      <td>7.0</td>\n",
       "      <td>9.0</td>\n",
       "      <td>63.0</td>\n",
       "    </tr>\n",
       "    <tr>\n",
       "      <th>PAR471</th>\n",
       "      <td>PAR471</td>\n",
       "      <td>1.0</td>\n",
       "      <td>128.0</td>\n",
       "      <td>15.0</td>\n",
       "      <td>18.0</td>\n",
       "      <td>270.0</td>\n",
       "    </tr>\n",
       "    <tr>\n",
       "      <th>PAR472</th>\n",
       "      <td>PAR472</td>\n",
       "      <td>1.0</td>\n",
       "      <td>128.0</td>\n",
       "      <td>21.0</td>\n",
       "      <td>10.0</td>\n",
       "      <td>210.0</td>\n",
       "    </tr>\n",
       "    <tr>\n",
       "      <th>PAR473</th>\n",
       "      <td>PAR473</td>\n",
       "      <td>3.0</td>\n",
       "      <td>128.0</td>\n",
       "      <td>16.0</td>\n",
       "      <td>32.0</td>\n",
       "      <td>512.0</td>\n",
       "    </tr>\n",
       "    <tr>\n",
       "      <th>PAR474</th>\n",
       "      <td>PAR474</td>\n",
       "      <td>NaN</td>\n",
       "      <td>NaN</td>\n",
       "      <td>14.0</td>\n",
       "      <td>17.0</td>\n",
       "      <td>238.0</td>\n",
       "    </tr>\n",
       "    <tr>\n",
       "      <th>PAR475</th>\n",
       "      <td>PAR475</td>\n",
       "      <td>2.0</td>\n",
       "      <td>128.0</td>\n",
       "      <td>15.0</td>\n",
       "      <td>24.0</td>\n",
       "      <td>360.0</td>\n",
       "    </tr>\n",
       "    <tr>\n",
       "      <th>PAR476</th>\n",
       "      <td>PAR476</td>\n",
       "      <td>5.0</td>\n",
       "      <td>128.0</td>\n",
       "      <td>19.0</td>\n",
       "      <td>24.0</td>\n",
       "      <td>456.0</td>\n",
       "    </tr>\n",
       "    <tr>\n",
       "      <th>PAR477</th>\n",
       "      <td>PAR477</td>\n",
       "      <td>10.0</td>\n",
       "      <td>128.0</td>\n",
       "      <td>26.0</td>\n",
       "      <td>32.0</td>\n",
       "      <td>832.0</td>\n",
       "    </tr>\n",
       "    <tr>\n",
       "      <th>PAR478</th>\n",
       "      <td>PAR478</td>\n",
       "      <td>9.0</td>\n",
       "      <td>128.0</td>\n",
       "      <td>20.0</td>\n",
       "      <td>36.0</td>\n",
       "      <td>720.0</td>\n",
       "    </tr>\n",
       "    <tr>\n",
       "      <th>PAR479</th>\n",
       "      <td>PAR479</td>\n",
       "      <td>3.0</td>\n",
       "      <td>128.0</td>\n",
       "      <td>26.0</td>\n",
       "      <td>33.0</td>\n",
       "      <td>858.0</td>\n",
       "    </tr>\n",
       "    <tr>\n",
       "      <th>PAR480</th>\n",
       "      <td>PAR480</td>\n",
       "      <td>5.0</td>\n",
       "      <td>128.0</td>\n",
       "      <td>25.0</td>\n",
       "      <td>19.0</td>\n",
       "      <td>475.0</td>\n",
       "    </tr>\n",
       "    <tr>\n",
       "      <th>PAR481</th>\n",
       "      <td>PAR481</td>\n",
       "      <td>NaN</td>\n",
       "      <td>NaN</td>\n",
       "      <td>12.0</td>\n",
       "      <td>12.0</td>\n",
       "      <td>144.0</td>\n",
       "    </tr>\n",
       "    <tr>\n",
       "      <th>PAR482</th>\n",
       "      <td>PAR482</td>\n",
       "      <td>NaN</td>\n",
       "      <td>NaN</td>\n",
       "      <td>8.0</td>\n",
       "      <td>11.0</td>\n",
       "      <td>88.0</td>\n",
       "    </tr>\n",
       "    <tr>\n",
       "      <th>PAR483</th>\n",
       "      <td>PAR483</td>\n",
       "      <td>6.0</td>\n",
       "      <td>128.0</td>\n",
       "      <td>29.0</td>\n",
       "      <td>35.0</td>\n",
       "      <td>1015.0</td>\n",
       "    </tr>\n",
       "    <tr>\n",
       "      <th>PAR484</th>\n",
       "      <td>PAR484</td>\n",
       "      <td>9.0</td>\n",
       "      <td>128.0</td>\n",
       "      <td>21.0</td>\n",
       "      <td>21.0</td>\n",
       "      <td>441.0</td>\n",
       "    </tr>\n",
       "    <tr>\n",
       "      <th>PAR485</th>\n",
       "      <td>PAR485</td>\n",
       "      <td>1.0</td>\n",
       "      <td>128.0</td>\n",
       "      <td>21.0</td>\n",
       "      <td>14.0</td>\n",
       "      <td>294.0</td>\n",
       "    </tr>\n",
       "    <tr>\n",
       "      <th>PAR486</th>\n",
       "      <td>PAR486</td>\n",
       "      <td>4.0</td>\n",
       "      <td>128.0</td>\n",
       "      <td>20.0</td>\n",
       "      <td>29.0</td>\n",
       "      <td>580.0</td>\n",
       "    </tr>\n",
       "    <tr>\n",
       "      <th>PAR487</th>\n",
       "      <td>PAR487</td>\n",
       "      <td>2.0</td>\n",
       "      <td>128.0</td>\n",
       "      <td>18.0</td>\n",
       "      <td>18.0</td>\n",
       "      <td>324.0</td>\n",
       "    </tr>\n",
       "    <tr>\n",
       "      <th>PAR488</th>\n",
       "      <td>PAR488</td>\n",
       "      <td>NaN</td>\n",
       "      <td>NaN</td>\n",
       "      <td>6.0</td>\n",
       "      <td>16.0</td>\n",
       "      <td>96.0</td>\n",
       "    </tr>\n",
       "    <tr>\n",
       "      <th>PAR489</th>\n",
       "      <td>PAR489</td>\n",
       "      <td>1.0</td>\n",
       "      <td>128.0</td>\n",
       "      <td>19.0</td>\n",
       "      <td>25.0</td>\n",
       "      <td>475.0</td>\n",
       "    </tr>\n",
       "    <tr>\n",
       "      <th>PAR490</th>\n",
       "      <td>PAR490</td>\n",
       "      <td>2.0</td>\n",
       "      <td>128.0</td>\n",
       "      <td>10.0</td>\n",
       "      <td>28.0</td>\n",
       "      <td>280.0</td>\n",
       "    </tr>\n",
       "    <tr>\n",
       "      <th>PAR491</th>\n",
       "      <td>PAR491</td>\n",
       "      <td>5.0</td>\n",
       "      <td>128.0</td>\n",
       "      <td>18.0</td>\n",
       "      <td>29.0</td>\n",
       "      <td>522.0</td>\n",
       "    </tr>\n",
       "  </tbody>\n",
       "</table>\n",
       "<p>297 rows × 6 columns</p>\n",
       "</div>"
      ],
      "text/plain": [
       "           OfficialID  Size_Tumor_kp  Size_Tumor_des  Size_img_h  Size_img_w  \\\n",
       "OfficialID                                                                     \n",
       "PAR170         PAR170            6.0           128.0        21.0        26.0   \n",
       "PAR171         PAR171            5.0           128.0        23.0        24.0   \n",
       "PAR172         PAR172            5.0           128.0        16.0        35.0   \n",
       "PAR173         PAR173            2.0           128.0        14.0        25.0   \n",
       "PAR174         PAR174            NaN             NaN        10.0        25.0   \n",
       "PAR175         PAR175            1.0           128.0        19.0        23.0   \n",
       "PAR176         PAR176            2.0           128.0        24.0        20.0   \n",
       "PAR177         PAR177            5.0           128.0        20.0        25.0   \n",
       "PAR178         PAR178            NaN             NaN        10.0         8.0   \n",
       "PAR180         PAR180            8.0           128.0        20.0        35.0   \n",
       "PAR181         PAR181            NaN             NaN        18.0         9.0   \n",
       "PAR182         PAR182            1.0           128.0        18.0        24.0   \n",
       "PAR183         PAR183            1.0           128.0        17.0        11.0   \n",
       "PAR184         PAR184            NaN             NaN        12.0        28.0   \n",
       "PAR185         PAR185            6.0           128.0        17.0        30.0   \n",
       "PAR186         PAR186            6.0           128.0        22.0        35.0   \n",
       "PAR187         PAR187           12.0           128.0        22.0        38.0   \n",
       "PAR188         PAR188            5.0           128.0        16.0        29.0   \n",
       "PAR189         PAR189            4.0           128.0        14.0        25.0   \n",
       "PAR190         PAR190            5.0           128.0        15.0        15.0   \n",
       "PAR191         PAR191            7.0           128.0        28.0        34.0   \n",
       "PAR192         PAR192            NaN             NaN         9.0        16.0   \n",
       "PAR194         PAR194            2.0           128.0        20.0        32.0   \n",
       "PAR197         PAR197            5.0           128.0        17.0        31.0   \n",
       "PAR198         PAR198            7.0           128.0        29.0        19.0   \n",
       "PAR199         PAR199            4.0           128.0        22.0        41.0   \n",
       "PAR200         PAR200            NaN             NaN        11.0        18.0   \n",
       "PAR201         PAR201            NaN             NaN        24.0        23.0   \n",
       "PAR202         PAR202            3.0           128.0        17.0        35.0   \n",
       "PAR203         PAR203            1.0           128.0        28.0        14.0   \n",
       "...               ...            ...             ...         ...         ...   \n",
       "PAR462         PAR462           12.0           128.0        19.0        41.0   \n",
       "PAR463         PAR463            3.0           128.0        22.0        16.0   \n",
       "PAR464         PAR464            1.0           128.0        17.0        36.0   \n",
       "PAR465         PAR465            8.0           128.0        22.0        21.0   \n",
       "PAR466         PAR466            2.0           128.0        17.0        35.0   \n",
       "PAR467         PAR467            NaN             NaN        15.0        14.0   \n",
       "PAR468         PAR468            1.0           128.0        27.0        29.0   \n",
       "PAR469         PAR469            1.0           128.0        18.0        23.0   \n",
       "PAR470         PAR470            2.0           128.0         7.0         9.0   \n",
       "PAR471         PAR471            1.0           128.0        15.0        18.0   \n",
       "PAR472         PAR472            1.0           128.0        21.0        10.0   \n",
       "PAR473         PAR473            3.0           128.0        16.0        32.0   \n",
       "PAR474         PAR474            NaN             NaN        14.0        17.0   \n",
       "PAR475         PAR475            2.0           128.0        15.0        24.0   \n",
       "PAR476         PAR476            5.0           128.0        19.0        24.0   \n",
       "PAR477         PAR477           10.0           128.0        26.0        32.0   \n",
       "PAR478         PAR478            9.0           128.0        20.0        36.0   \n",
       "PAR479         PAR479            3.0           128.0        26.0        33.0   \n",
       "PAR480         PAR480            5.0           128.0        25.0        19.0   \n",
       "PAR481         PAR481            NaN             NaN        12.0        12.0   \n",
       "PAR482         PAR482            NaN             NaN         8.0        11.0   \n",
       "PAR483         PAR483            6.0           128.0        29.0        35.0   \n",
       "PAR484         PAR484            9.0           128.0        21.0        21.0   \n",
       "PAR485         PAR485            1.0           128.0        21.0        14.0   \n",
       "PAR486         PAR486            4.0           128.0        20.0        29.0   \n",
       "PAR487         PAR487            2.0           128.0        18.0        18.0   \n",
       "PAR488         PAR488            NaN             NaN         6.0        16.0   \n",
       "PAR489         PAR489            1.0           128.0        19.0        25.0   \n",
       "PAR490         PAR490            2.0           128.0        10.0        28.0   \n",
       "PAR491         PAR491            5.0           128.0        18.0        29.0   \n",
       "\n",
       "            Size_img  \n",
       "OfficialID            \n",
       "PAR170         546.0  \n",
       "PAR171         552.0  \n",
       "PAR172         560.0  \n",
       "PAR173         350.0  \n",
       "PAR174         250.0  \n",
       "PAR175         437.0  \n",
       "PAR176         480.0  \n",
       "PAR177         500.0  \n",
       "PAR178          80.0  \n",
       "PAR180         700.0  \n",
       "PAR181         162.0  \n",
       "PAR182         432.0  \n",
       "PAR183         187.0  \n",
       "PAR184         336.0  \n",
       "PAR185         510.0  \n",
       "PAR186         770.0  \n",
       "PAR187         836.0  \n",
       "PAR188         464.0  \n",
       "PAR189         350.0  \n",
       "PAR190         225.0  \n",
       "PAR191         952.0  \n",
       "PAR192         144.0  \n",
       "PAR194         640.0  \n",
       "PAR197         527.0  \n",
       "PAR198         551.0  \n",
       "PAR199         902.0  \n",
       "PAR200         198.0  \n",
       "PAR201         552.0  \n",
       "PAR202         595.0  \n",
       "PAR203         392.0  \n",
       "...              ...  \n",
       "PAR462         779.0  \n",
       "PAR463         352.0  \n",
       "PAR464         612.0  \n",
       "PAR465         462.0  \n",
       "PAR466         595.0  \n",
       "PAR467         210.0  \n",
       "PAR468         783.0  \n",
       "PAR469         414.0  \n",
       "PAR470          63.0  \n",
       "PAR471         270.0  \n",
       "PAR472         210.0  \n",
       "PAR473         512.0  \n",
       "PAR474         238.0  \n",
       "PAR475         360.0  \n",
       "PAR476         456.0  \n",
       "PAR477         832.0  \n",
       "PAR478         720.0  \n",
       "PAR479         858.0  \n",
       "PAR480         475.0  \n",
       "PAR481         144.0  \n",
       "PAR482          88.0  \n",
       "PAR483        1015.0  \n",
       "PAR484         441.0  \n",
       "PAR485         294.0  \n",
       "PAR486         580.0  \n",
       "PAR487         324.0  \n",
       "PAR488          96.0  \n",
       "PAR489         475.0  \n",
       "PAR490         280.0  \n",
       "PAR491         522.0  \n",
       "\n",
       "[297 rows x 6 columns]"
      ]
     },
     "execution_count": 118,
     "metadata": {},
     "output_type": "execute_result"
    }
   ],
   "source": [
    "size_vector_cd3"
   ]
  },
  {
   "cell_type": "code",
   "execution_count": null,
   "metadata": {},
   "outputs": [],
   "source": [
    "for patient_id in data_ID['OfficialID']:\n",
    "    CD3PATH=os.path.join('..','Data_output','cache_HEGP','cd3',patient_id)\n",
    "    img_cd3=pandas.read_csv(os.path.join(CD3PATH,'Ratio_Cells_per_Tumor'),sep=' ',header=None)\n",
    "    size_vector_cd3.loc[patient_id,'Size_img_h']=img_cd3.shape[0]\n",
    "    size_vector_cd3.loc[patient_id,'Size_img_w']=img_cd3.shape[1]\n",
    "    size_vector_cd3.loc[patient_id,'Size_img']=img_cd3.size\n",
    "    gen = numpy.array(img_cd3 ,dtype=numpy.uint8)\n",
    "    \n",
    "    #kps=extract_features(gen)\n",
    "    kp, des = sift.detectAndCompute(gen,None)\n",
    "    try:\n",
    "        size_vector_cd3.loc[patient_id,'Size_Tumor_kp']=des.shape[0]\n",
    "        size_vector_cd3.loc[patient_id,'Size_Tumor_des']=des.shape[1]\n",
    "    except (AttributeError):\n",
    "        pass\n",
    "    \n",
    "    CD8PATH=os.path.join('..','Data_output','cache_HEGP','cd8',patient_id)\n",
    "    img_cd8=pandas.read_csv(os.path.join(CD8PATH,'Ratio_Cells_per_Tumor'),sep=' ',header=None)\n",
    "    size_vector_cd8.loc[patient_id,'Size_img_h']=img_cd8.shape[0]\n",
    "    size_vector_cd8.loc[patient_id,'Size_img_w']=img_cd8.shape[1]\n",
    "    size_vector_cd8.loc[patient_id,'Size_img']=img_cd8.size\n",
    "    gen = numpy.array(img_cd8 ,dtype=numpy.uint8)\n",
    "    \n",
    "    #kps=extract_features(gen)\n",
    "    kp, des = sift.detectAndCompute(gen,None)\n",
    "    try:\n",
    "        size_vector_cd8.loc[patient_id,'Size_Tumor_kp']=des.shape[0]\n",
    "        size_vector_cd8.loc[patient_id,'Size_Tumor_des']=des.shape[1]\n",
    "    except (AttributeError):\n",
    "        pass\n",
    "\n",
    "img_descs.append(desc)"
   ]
  }
 ],
 "metadata": {
  "kernelspec": {
   "display_name": "Python 3",
   "language": "python",
   "name": "python3"
  },
  "language_info": {
   "codemirror_mode": {
    "name": "ipython",
    "version": 3
   },
   "file_extension": ".py",
   "mimetype": "text/x-python",
   "name": "python",
   "nbconvert_exporter": "python",
   "pygments_lexer": "ipython3",
   "version": "3.6.4"
  }
 },
 "nbformat": 4,
 "nbformat_minor": 2
}
