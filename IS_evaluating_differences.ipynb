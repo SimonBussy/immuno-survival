{
 "cells": [
  {
   "cell_type": "code",
   "execution_count": 1,
   "metadata": {},
   "outputs": [],
   "source": [
    "\"\"\"Calculating the immunoScore\n",
    "from Data file ...\n",
    "output will be file containing for each patient_id original immuno TDy_immuno and boolean if match \"\"\"\n",
    "\n",
    "    #if img_path[-1:]=='3':\n",
    "    #    patient_dict['meanCD3_Tumor']=mean(patient_dict['Density_Tumor_images'])\n",
    "    #    patient_dict['meanCD3_InvasiveFront']=mean(patient_dict['Density_InvasiveFront_images'])\n",
    "    #elif  img_path[-1:]=='8':\n",
    "    #    patient_dict['meanCD8_Tumor']=mean(patient_dict['Density_Tumor_images'])\n",
    "    #    patient_dict['meanCD8_InvasiveFront']=mean(patient_dict['Density_InvasiveFront_images'])\n",
    "import os\n",
    "import glob\n",
    "import pandas\n",
    "\n",
    "SAVE_CLI_PATH=os.path.join('../Data_output')\n",
    "\n",
    "\n",
    "Data_IS_original=pandas.read_csv(os.path.join(SAVE_CLI_PATH,'data_HEGP_Immunoscore_original.txt'),sep=';')\n",
    "Data_IS_MDT=pandas.read_csv(os.path.join(SAVE_CLI_PATH,'HEGP_Immunoscore_mean.csv'),sep=',')\n",
    "\n",
    "with open('../Data_output/IS_check_MDT_HEGP.csv', 'w') as f:\n",
    "\n",
    "    f.write('OfficialID,Match,cd3_CT_amos,cd3_IM_amos,cd8_CT_amos,cd8_IM_amos,mean_score_amos,is_amos,is_MDT,score_cd3ct,score_cd3im,score_cd8ct,score_cd8im,score_mean)\\n')\n",
    "    for patient_id in list(Data_IS_MDT['OfficialID']):\n",
    "        idx_amos=list(Data_IS_original['OfficialID']).index(patient_id)\n",
    "            #immunoScore\n",
    "        is_amos=Data_IS_original.at[idx_amos,'immunoScore3gr']\n",
    "        cd3_CTscore_amos=Data_IS_original.at[idx_amos,'CD3.CT.score']\n",
    "        cd3_IMscore_amos=Data_IS_original.at[idx_amos,'CD3.IM.score']\n",
    "        cd8_CTscore_amos=Data_IS_original.at[idx_amos,'CD8.CT.score']\n",
    "        cd8_IMscore_amos=Data_IS_original.at[idx_amos,'CD8.IM.score']\n",
    "        mean_score_amos=Data_IS_original.at[idx_amos,'meanScore']\n",
    "\n",
    "        idx_mdt=list(Data_IS_MDT['OfficialID']).index(patient_id)\n",
    "        is_MDT=Data_IS_MDT.loc[idx_mdt,\"IS_MDT\"]\n",
    "        score_cd3ct=Data_IS_MDT.loc[idx_mdt,\"score_cd3ct\"]\n",
    "        score_cd3im=Data_IS_MDT.loc[idx_mdt,\"score_cd3im\"]\n",
    "        score_cd8ct=Data_IS_MDT.loc[idx_mdt,\"score_cd8ct\"]\n",
    "        score_cd8im=Data_IS_MDT.loc[idx_mdt,\"score_cd8im\"]\n",
    "        score_mean=Data_IS_MDT.loc[idx_mdt,\"score_mean\"]\n",
    "\n",
    "\n",
    "        if is_MDT==is_amos:\n",
    "            f.write('{},{},{},{},{},{},{},{},{},{},{},{},{},{}\\n'.format(patient_id,\"OK\",cd3_CTscore_amos,cd3_IMscore_amos,cd8_CTscore_amos,cd8_IMscore_amos,mean_score_amos,is_amos,is_MDT,score_cd3ct,\n",
    "            score_cd3im,score_cd8ct,score_cd8im,score_mean))\n",
    "        else:\n",
    "            f.write('{},{},{},{},{},{},{},{},{},{},{},{},{},{}\\n'.format(patient_id,\"False\",cd3_CTscore_amos,cd3_IMscore_amos,cd8_CTscore_amos,cd8_IMscore_amos,mean_score_amos,is_amos,is_MDT,score_cd3ct,\n",
    "            score_cd3im,score_cd8ct,score_cd8im,score_mean))\n"
   ]
  },
  {
   "cell_type": "code",
   "execution_count": null,
   "metadata": {},
   "outputs": [],
   "source": []
  }
 ],
 "metadata": {
  "kernelspec": {
   "display_name": "Python 3",
   "language": "python",
   "name": "python3"
  },
  "language_info": {
   "codemirror_mode": {
    "name": "ipython",
    "version": 3
   },
   "file_extension": ".py",
   "mimetype": "text/x-python",
   "name": "python",
   "nbconvert_exporter": "python",
   "pygments_lexer": "ipython3",
   "version": "3.6.4"
  }
 },
 "nbformat": 4,
 "nbformat_minor": 2
}
